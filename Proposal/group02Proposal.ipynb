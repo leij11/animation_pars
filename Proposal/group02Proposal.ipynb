{
 "cells": [
  {
   "cell_type": "markdown",
   "metadata": {},
   "source": [
    "# CS4TB3 Project Proposal\n",
    "By group02 (Jessica Lei, Mingnan Su)"
   ]
  },
  {
   "cell_type": "markdown",
   "metadata": {},
   "source": [
    "Overview\n",
    "---\n",
    "Our task for this project is to take a step further with Jupyter Notebook’s given functionalities by providing users with the ability to animate the execution of FSM. We will be implementing animations using the python library of pygame.\n",
    "\n",
    "Firstly, let the user provide FSM as input, the program then draw the FSM diagram. Next, ask the user to provide input in the format of string, e.g.\"abc\". We put the given input into FSM and decide whether it fits FSM. If it fits, we execute the input in FSM and animate the execution of FSM by coloring the different components of the diagram.\n",
    "\n",
    "Furthermore, we could also provide the visualization of the algorithm for making FSM deterministic and equivalence."
   ]
  },
  {
   "cell_type": "markdown",
   "metadata": {},
   "source": [
    "Implementation\n",
    "--"
   ]
  },
  {
   "cell_type": "markdown",
   "metadata": {},
   "source": [
    "Firstly, user will provide the FSM in a format of `python` code below. For example,\n",
    "```\n",
    "initial_state = 0\n",
    "final_states = {f}\n",
    "terminals = {a,b,c}\n",
    "t1 = Transition('0','c','f')\n",
    "t2 = Transition('0','a','1')\n",
    "t3 = Transition('1','b','1')\n",
    "t4 = Transition('1','c','f')\n",
    "transitions = {t1,t2,t3,t4}\n",
    "```\n",
    "Secondly, user will provide a string, which in this case is : `abc`"
   ]
  },
  {
   "cell_type": "markdown",
   "metadata": {},
   "source": [
    "Last but not least, the expected output should be the following, where read indicates the animation of the execution of FSM:"
   ]
  },
  {
   "cell_type": "markdown",
   "metadata": {},
   "source": [
    "<img style=\"width:28em\" src=\"./diagram.JPG\"></img> "
   ]
  },
  {
   "cell_type": "markdown",
   "metadata": {},
   "source": [
    "Another ways of implementation could utilize turtle library or svg. In comparison, turtle have low implementation difficulty, but lack of code effiency. We might end up with thousands lines of code in order to finish our program. In another hand, svg animation have wide range of capability, but we are developed our project using Python, where svg is based on html and css. Since interfacing with different languages could be a difficult and unnessasary thing to do for this project, we decide to use Pygame library."
   ]
  },
  {
   "cell_type": "markdown",
   "metadata": {},
   "source": [
    "Documentation\n",
    "---\n",
    "This project will be documented and demostrated by Jupyter notebooks throughout the development period. We hope to learn more about the execution and algorithms of FSM by completing this task. Furthermore, it also helps us to consolidate our knowledge on the topics and materials learned throughout the course."
   ]
  },
  {
   "cell_type": "markdown",
   "metadata": {},
   "source": [
    "Resources\n",
    "---\n",
    "`2. Regular Languages` Lecture Notes By Emil Sekerinski, McMaster University, January 2020   \n",
    "`Python Pygame` Library   \n",
    "`Python Numpy` Library"
   ]
  },
  {
   "cell_type": "markdown",
   "metadata": {},
   "source": [
    "Division of Work\n",
    "---\n",
    "|`Team Member`    |`Task`  |\n",
    "|:---------|--------|\n",
    "|`Jessia`  | `poster design, generalized pygame code` |\n",
    "|`Mingnan` | `poster content, pygame animation code, FSM parsing algorithms` |"
   ]
  },
  {
   "cell_type": "markdown",
   "metadata": {},
   "source": [
    "Weekly Schedule\n",
    "---\n",
    "|`Deadline`    |`Task`  |\n",
    "|:---------|--------|\n",
    "|`Mar. 9`  | `pygame animation code` |\n",
    "|`Mar. 16` | `generalized pygame code` |\n",
    "|`Mar. 23` | `utilize pygame code into FSM parsing` |\n",
    "|`Mar. 31` | `finalize project and bug fixes` |\n",
    "|`Apr. 7`  | `poster design and content` |"
   ]
  },
  {
   "cell_type": "code",
   "execution_count": null,
   "metadata": {},
   "outputs": [],
   "source": []
  }
 ],
 "metadata": {
  "kernelspec": {
   "display_name": "Python 3",
   "language": "python",
   "name": "python3"
  },
  "language_info": {
   "codemirror_mode": {
    "name": "ipython",
    "version": 3
   },
   "file_extension": ".py",
   "mimetype": "text/x-python",
   "name": "python",
   "nbconvert_exporter": "python",
   "pygments_lexer": "ipython3",
   "version": "3.8.1"
  }
 },
 "nbformat": 4,
 "nbformat_minor": 2
}
