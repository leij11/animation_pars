{
 "cells": [
  {
   "cell_type": "code",
   "execution_count": null,
   "metadata": {},
   "outputs": [],
   "source": [
    "import sys\n",
    "sys.path.append('../fsm/action.py')\n",
    "sys.path.append('../fsm/machine.py')\n",
    "sys.path.append('../fsm/state.py')\n",
    "sys.path.append('../fsm/transition.py')\n",
    "%run ../fsm/action.py\n",
    "%run ../fsm/machine.py\n",
    "%run ../fsm/state.py\n",
    "%run ../fsm/transition.py\n",
    "from graphviz import *\n",
    "\n",
    "#user define states\n",
    "states = ['0', '1', 'f']\n",
    "\n",
    "#user define final states\n",
    "finals = ['f']\n",
    "\n",
    "#user define transitions\n",
    "transitions = [\n",
    "    { 'trigger': 'a', 'source': '0', 'dest': '1' },\n",
    "    { 'trigger': 'c', 'source': '1', 'dest': 'f' },\n",
    "    { 'trigger': 'b', 'source': '1', 'dest': '1' },\n",
    "    { 'trigger': 'c', 'source': '0', 'dest': 'f' },\n",
    "]\n",
    "\n",
    "# Initialize model\n",
    "class Graph(object):\n",
    "    def __init__(self,states,finals,transitions):\n",
    "        self.states = states\n",
    "        self.finals = finals\n",
    "        self.transitions = transitions\n",
    "        \n",
    "    def draw(self,file_name=None,hl_state=None,hl_trigger=None,trigger_state=None):\n",
    "        #draw the FSM\n",
    "        f = Digraph(filename=file_name)\n",
    "        f.attr(rankdir='LR', size='8,5')\n",
    "        f.attr('node', shape='doublecircle')\n",
    "        for state in finals:\n",
    "            if hl_state == state:\n",
    "                f.node(state,style='filled',color='pink')\n",
    "            else:\n",
    "                f.node(state)\n",
    "        f.attr('node', shape='circle')\n",
    "        for state in states:\n",
    "            if hl_state == state:\n",
    "                f.node(state,style='filled',color='pink')\n",
    "            else:\n",
    "                f.node(state)\n",
    "        f.attr('node', shape='circle')\n",
    "        for transition in transitions:\n",
    "            if hl_trigger == transition['trigger'] and trigger_state == transition['source']:\n",
    "                f.edge(transition['source'],transition['dest'],transition['trigger'],style='filled',color='pink')\n",
    "            else:\n",
    "                f.edge(transition['source'],transition['dest'],transition['trigger'])\n",
    "        return f\n",
    "\n",
    "# pass user data into finite state machine\n",
    "graph = Graph(states,finals,transitions)\n",
    "machine = Fsm(graph, states=states, transitions=transitions, initial='0')"
   ]
  },
  {
   "cell_type": "code",
   "execution_count": null,
   "metadata": {
    "scrolled": true
   },
   "outputs": [],
   "source": [
    "graph.draw()"
   ]
  },
  {
   "cell_type": "code",
   "execution_count": null,
   "metadata": {
    "scrolled": false
   },
   "outputs": [],
   "source": [
    "#example usage: execution of FSM\n",
    "#suppose we want to check if the FSM accept string 'abc'\n",
    "check_str = 'abc'"
   ]
  },
  {
   "cell_type": "code",
   "execution_count": null,
   "metadata": {
    "scrolled": false
   },
   "outputs": [],
   "source": [
    "#generate png image file for each stage of animation\n",
    "for i in range(len(check_str)):\n",
    "    prev = graph.state\n",
    "    machine.dispatch(check_str[i])\n",
    "    graph.draw(file_name=str(i*2),hl_trigger=check_str[i],trigger_state=prev).render(format='png')\n",
    "    graph.draw(file_name=str(i*2+1),hl_state=graph.state).render(format='png')"
   ]
  },
  {
   "cell_type": "code",
   "execution_count": null,
   "metadata": {
    "scrolled": false
   },
   "outputs": [],
   "source": [
    "from ipywidgets import *\n",
    "from IPython.display import Image\n",
    "import time\n",
    "\n",
    "def func(x):\n",
    "    index = int(x/2)\n",
    "    #print the current naviating character to red\n",
    "    print(check_str[:index]+\"\\x1b[31m\"+check_str[index]+\"\\x1b[0m\"+check_str[index:][1:])\n",
    "    #display the image just generated\n",
    "    display(Image(filename=str(x)+'.png'))\n",
    "\n",
    "interact(func, x=widgets.IntSlider(min=0, max=2*(len(check_str))-1, step=1));"
   ]
  },
  {
   "cell_type": "code",
   "execution_count": null,
   "metadata": {},
   "outputs": [],
   "source": []
  }
 ],
 "metadata": {
  "kernelspec": {
   "display_name": "Python 3",
   "language": "python",
   "name": "python3"
  },
  "language_info": {
   "codemirror_mode": {
    "name": "ipython",
    "version": 3
   },
   "file_extension": ".py",
   "mimetype": "text/x-python",
   "name": "python",
   "nbconvert_exporter": "python",
   "pygments_lexer": "ipython3",
   "version": "3.8.1"
  }
 },
 "nbformat": 4,
 "nbformat_minor": 2
}
