{
 "cells": [
  {
   "cell_type": "code",
   "execution_count": 1,
   "metadata": {},
   "outputs": [],
   "source": [
    "import sys\n",
    "sys.path.append('../fsm/action.py')\n",
    "sys.path.append('../fsm/machine.py')\n",
    "sys.path.append('../fsm/state.py')\n",
    "sys.path.append('../fsm/transition.py')\n",
    "%run ../fsm/action.py\n",
    "%run ../fsm/machine.py\n",
    "%run ../fsm/state.py\n",
    "%run ../fsm/transition.py\n",
    "from graphviz import *\n",
    "from ipywidgets import *\n",
    "from IPython.display import Image\n",
    "import time\n",
    "\n",
    "class Things(object):\n",
    "    pass\n",
    "\n",
    "# Initialize model\n",
    "class FSMGraph(object):\n",
    "    def __init__(self,states,finals,transitions,check_str):\n",
    "        self.states = states\n",
    "        self.finals = finals\n",
    "        self.transitions = transitions\n",
    "        self.check_str = check_str\n",
    "        # pass user data into finite state machine\n",
    "        self.model = Things()\n",
    "        self.machine = Fsm(self.model, states=states, transitions=transitions, initial='0')\n",
    "\n",
    "        #Result: Animation of FSM execution\n",
    "        \n",
    "    def draw(self,file_name=None,hl_state=None,hl_trigger=None,trigger_state=None):\n",
    "        #draw the FSM\n",
    "        f = Digraph(filename=file_name)\n",
    "        f.attr(rankdir='LR', size='8,5')\n",
    "        f.attr('node', shape='doublecircle')\n",
    "        for state in self.finals:\n",
    "            if hl_state == state:\n",
    "                f.node(state,style='filled',color='pink')\n",
    "            else:\n",
    "                f.node(state)\n",
    "        f.attr('node', shape='circle')\n",
    "        for state in self.states:\n",
    "            if hl_state == state:\n",
    "                f.node(state,style='filled',color='pink')\n",
    "            else:\n",
    "                f.node(state)\n",
    "        f.attr('node', shape='circle')\n",
    "        for transition in self.transitions:\n",
    "            if hl_trigger == transition['trigger'] and trigger_state == transition['source']:\n",
    "                f.edge(transition['source'],transition['dest'],transition['trigger'],style='filled',color='pink')\n",
    "            else:\n",
    "                f.edge(transition['source'],transition['dest'],transition['trigger'])\n",
    "        return f\n",
    "    \n",
    "    def gen_img(self):\n",
    "        #generate png image file for each stage of animation\n",
    "        for i in range(len(self.check_str)):\n",
    "            prev = self.model.state\n",
    "            try:\n",
    "                self.machine.dispatch(self.check_str[i])\n",
    "            except:\n",
    "                print(\"ERROR: FSM cannot accept the string\")\n",
    "            self.draw(file_name=str(i*2),hl_trigger=self.check_str[i],trigger_state=prev).render(format='png')\n",
    "            self.draw(file_name=str(i*2+1),hl_state=self.model.state).render(format='png')\n",
    "            \n",
    "    def func(self,x):\n",
    "        index = int(x/2)\n",
    "        #print the current naviating character to red\n",
    "        print(self.check_str[:index]+\"\\x1b[31m\"+self.check_str[index]+\"\\x1b[0m\"+self.check_str[index:][1:])\n",
    "        #display the image just generated\n",
    "        display(Image(filename=str(x)+'.png'))\n",
    "        \n",
    "    def display(self):\n",
    "        self.gen_img()\n",
    "        if not (self.model.state in self.finals):\n",
    "            print(\"Given String does not reach the final states!\")\n",
    "        interact(self.func, x=widgets.IntSlider(min=0, max=2*(len(self.check_str))-1, step=1))"
   ]
  },
  {
   "cell_type": "markdown",
   "metadata": {},
   "source": [
    "### TEST CASE 0"
   ]
  },
  {
   "cell_type": "code",
   "execution_count": 2,
   "metadata": {},
   "outputs": [
    {
     "data": {
      "application/vnd.jupyter.widget-view+json": {
       "model_id": "c52982a811824a218a272cdf61b8e649",
       "version_major": 2,
       "version_minor": 0
      },
      "text/plain": [
       "interactive(children=(IntSlider(value=0, description='x', max=3), Output()), _dom_classes=('widget-interact',)…"
      ]
     },
     "metadata": {},
     "output_type": "display_data"
    }
   ],
   "source": [
    "#user define states\n",
    "states = ['0', '1', 'f']\n",
    "#user define final states\n",
    "finals = ['f']\n",
    "#user define transitions\n",
    "transitions = [\n",
    "    { 'trigger': 'a', 'source': '0', 'dest': '1' },\n",
    "    { 'trigger': 'b', 'source': '1', 'dest': 'f' },]\n",
    "#Check if the FSM accept string 'abc'\n",
    "check_str = 'ab'\n",
    "g = FSMGraph(states, finals, transitions, check_str)\n",
    "g.display()"
   ]
  },
  {
   "cell_type": "markdown",
   "metadata": {},
   "source": [
    "### TEST CASE 1"
   ]
  },
  {
   "cell_type": "code",
   "execution_count": 7,
   "metadata": {},
   "outputs": [
    {
     "data": {
      "application/vnd.jupyter.widget-view+json": {
       "model_id": "a6469fbed52143e9b73122bf3577d62f",
       "version_major": 2,
       "version_minor": 0
      },
      "text/plain": [
       "interactive(children=(IntSlider(value=0, description='x', max=5), Output()), _dom_classes=('widget-interact',)…"
      ]
     },
     "metadata": {},
     "output_type": "display_data"
    }
   ],
   "source": [
    "#user define states\n",
    "states = ['0', '1', 'f']\n",
    "\n",
    "#user define final states\n",
    "finals = ['f']\n",
    "\n",
    "#user define transitions\n",
    "transitions = [\n",
    "    { 'trigger': 'a', 'source': '0', 'dest': '1' },\n",
    "    { 'trigger': 'c', 'source': '1', 'dest': 'f' },\n",
    "    { 'trigger': 'b', 'source': '1', 'dest': '1' },\n",
    "    { 'trigger': 'c', 'source': '0', 'dest': 'f' },\n",
    "]\n",
    "\n",
    "#example usage: execution of FSM\n",
    "#suppose we want to check if the FSM accept string 'abc'\n",
    "check_str = 'abc'\n",
    "\n",
    "g = FSMGraph(states, finals, transitions, check_str)\n",
    "g.display()"
   ]
  },
  {
   "cell_type": "markdown",
   "metadata": {},
   "source": [
    "### TEST CASE 2"
   ]
  },
  {
   "cell_type": "code",
   "execution_count": 3,
   "metadata": {},
   "outputs": [
    {
     "data": {
      "application/vnd.jupyter.widget-view+json": {
       "model_id": "c3e5c6ea89d44e60b479c4daa33ff425",
       "version_major": 2,
       "version_minor": 0
      },
      "text/plain": [
       "interactive(children=(IntSlider(value=0, description='x', max=15), Output()), _dom_classes=('widget-interact',…"
      ]
     },
     "metadata": {},
     "output_type": "display_data"
    }
   ],
   "source": [
    "#user define states\n",
    "states = ['0', '1', 'f']\n",
    "\n",
    "#user define final states\n",
    "finals = ['f']\n",
    "\n",
    "#user define transitions\n",
    "transitions = [\n",
    "    { 'trigger': 'a', 'source': '0', 'dest': '1' },\n",
    "    { 'trigger': 'c', 'source': '1', 'dest': 'f' },\n",
    "    { 'trigger': 'b', 'source': '1', 'dest': '1' },\n",
    "    { 'trigger': 'c', 'source': '0', 'dest': 'f' },\n",
    "]\n",
    "\n",
    "#user define the string\n",
    "check_str = 'abbbbbbc'\n",
    "\n",
    "g2 = FSMGraph(states, finals, transitions, check_str)\n",
    "g2.display()\n",
    "\n",
    "#Result: Animation of FSM execution"
   ]
  },
  {
   "cell_type": "markdown",
   "metadata": {},
   "source": [
    "### TEST CASE 3"
   ]
  },
  {
   "cell_type": "code",
   "execution_count": 4,
   "metadata": {},
   "outputs": [
    {
     "data": {
      "application/vnd.jupyter.widget-view+json": {
       "model_id": "35f54311f16941018763951d4b03f6cc",
       "version_major": 2,
       "version_minor": 0
      },
      "text/plain": [
       "interactive(children=(IntSlider(value=0, description='x', max=5), Output()), _dom_classes=('widget-interact',)…"
      ]
     },
     "metadata": {},
     "output_type": "display_data"
    }
   ],
   "source": [
    "#user define states\n",
    "states = ['0', '1', '2', '3', '4', '5']\n",
    "\n",
    "#user define final states\n",
    "finals = ['1', '3', '5']\n",
    "\n",
    "#user define transitions\n",
    "transitions = [\n",
    "    { 'trigger': 'a', 'source': '0', 'dest': '1' },\n",
    "    { 'trigger': 'b', 'source': '1', 'dest': '2' },\n",
    "    { 'trigger': 'c', 'source': '1', 'dest': '3' },\n",
    "    { 'trigger': 'd', 'source': '0', 'dest': '4' },\n",
    "    { 'trigger': 'e', 'source': '4', 'dest': '5' },\n",
    "    { 'trigger': 'f', 'source': '2', 'dest': '5' },\n",
    "]\n",
    "\n",
    "#user define the string\n",
    "check_str = 'abf'\n",
    "\n",
    "g3 = FSMGraph(states, finals, transitions, check_str)\n",
    "g3.display()\n",
    "\n",
    "#Result: Animation of FSM execution"
   ]
  },
  {
   "cell_type": "markdown",
   "metadata": {},
   "source": [
    "### TEST CASE 4"
   ]
  },
  {
   "cell_type": "code",
   "execution_count": 5,
   "metadata": {},
   "outputs": [
    {
     "name": "stdout",
     "output_type": "stream",
     "text": [
      "Given String does not reach the final states!\n"
     ]
    },
    {
     "data": {
      "application/vnd.jupyter.widget-view+json": {
       "model_id": "5cecc6e1c9f046d285671f775fb1437d",
       "version_major": 2,
       "version_minor": 0
      },
      "text/plain": [
       "interactive(children=(IntSlider(value=0, description='x', max=3), Output()), _dom_classes=('widget-interact',)…"
      ]
     },
     "metadata": {},
     "output_type": "display_data"
    }
   ],
   "source": [
    "#user define states\n",
    "states = ['0', '1', '2', '3', '4', '5']\n",
    "\n",
    "#user define final states\n",
    "finals = ['1', '3', '5']\n",
    "\n",
    "#user define transitions\n",
    "transitions = [\n",
    "    { 'trigger': 'a', 'source': '0', 'dest': '1' },\n",
    "    { 'trigger': 'b', 'source': '1', 'dest': '2' },\n",
    "    { 'trigger': 'c', 'source': '1', 'dest': '3' },\n",
    "    { 'trigger': 'd', 'source': '0', 'dest': '4' },\n",
    "    { 'trigger': 'e', 'source': '4', 'dest': '5' },\n",
    "    { 'trigger': 'f', 'source': '2', 'dest': '5' },\n",
    "]\n",
    "\n",
    "#user define the string\n",
    "check_str = 'ab'\n",
    "\n",
    "g4 = FSMGraph(states, finals, transitions, check_str)\n",
    "g4.display()\n",
    "\n",
    "#Result: Given String does not reach the final states!"
   ]
  },
  {
   "cell_type": "markdown",
   "metadata": {},
   "source": [
    "### TEST CASE 5"
   ]
  },
  {
   "cell_type": "code",
   "execution_count": 6,
   "metadata": {},
   "outputs": [
    {
     "name": "stdout",
     "output_type": "stream",
     "text": [
      "ERROR: FSM cannot accept the string\n"
     ]
    },
    {
     "data": {
      "application/vnd.jupyter.widget-view+json": {
       "model_id": "ed450facc1ba474a8ba58c7ed1063c86",
       "version_major": 2,
       "version_minor": 0
      },
      "text/plain": [
       "interactive(children=(IntSlider(value=0, description='x', max=3), Output()), _dom_classes=('widget-interact',)…"
      ]
     },
     "metadata": {},
     "output_type": "display_data"
    }
   ],
   "source": [
    "#user define states\n",
    "states = ['0', '1', 'f']\n",
    "\n",
    "#user define final states\n",
    "finals = ['f']\n",
    "\n",
    "#user define transitions\n",
    "transitions = [\n",
    "    { 'trigger': 'a', 'source': '0', 'dest': '1' },\n",
    "    { 'trigger': 'c', 'source': '1', 'dest': 'f' },\n",
    "    { 'trigger': 'b', 'source': '1', 'dest': '1' },\n",
    "    { 'trigger': 'c', 'source': '0', 'dest': 'f' },\n",
    "]\n",
    "\n",
    "#user define the string\n",
    "check_str = 'ca'\n",
    "\n",
    "g5 = FSMGraph(states, finals, transitions, check_str)\n",
    "g5.display()\n",
    "\n",
    "#Result: ERROR: FSM cannot accept the string"
   ]
  },
  {
   "cell_type": "code",
   "execution_count": null,
   "metadata": {},
   "outputs": [],
   "source": []
  }
 ],
 "metadata": {
  "kernelspec": {
   "display_name": "Python 3",
   "language": "python",
   "name": "python3"
  },
  "language_info": {
   "codemirror_mode": {
    "name": "ipython",
    "version": 3
   },
   "file_extension": ".py",
   "mimetype": "text/x-python",
   "name": "python",
   "nbconvert_exporter": "python",
   "pygments_lexer": "ipython3",
   "version": "3.7.4"
  }
 },
 "nbformat": 4,
 "nbformat_minor": 2
}
