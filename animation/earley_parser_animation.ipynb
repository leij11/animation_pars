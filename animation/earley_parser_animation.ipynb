{
 "cells": [
  {
   "cell_type": "code",
   "execution_count": null,
   "metadata": {},
   "outputs": [],
   "source": [
    "from parse_tree import Node,Graph,Digraph,nohtml,Source\n",
    "import nltk\n",
    "\n",
    "#Expr class to store each expression\n",
    "class Expr(object):\n",
    "    def __init__(self,i,a,sigma,tau,j,method):\n",
    "        self.i = i\n",
    "        self.a = a\n",
    "        self.sigma = sigma\n",
    "        self.method = method\n",
    "        self.tau = tau\n",
    "        self.j = j\n",
    "    def __str__(self):\n",
    "        return 's[' + str(self.i) + ']: ' + self.a + ' → ' + self.sigma + '•' + self.tau + ', ' + str(self.j)\n",
    "    \n",
    "#define an empty list to store the data used for animation\n",
    "graph_data = []"
   ]
  },
  {
   "cell_type": "markdown",
   "metadata": {},
   "source": [
    "#### Modification version of earley's parser from Lecture notes 11\n",
    "Purpose: To return a parse tree in certain form   \n",
    "         Each brackets represents a leaf or tree.\n",
    "\n",
    "In Match step, instead of adding `(A → σ a • ω, j)`, we add `(A → σ (a) • ω, j)`   \n",
    "In Complete step, instead of adding `(B → μ A • ξ, k)`, we add `(B → μ (Aσ) • ξ, k)`"
   ]
  },
  {
   "cell_type": "code",
   "execution_count": null,
   "metadata": {},
   "outputs": [],
   "source": [
    "def parse(g: \"grammar\", x: \"input\"):\n",
    "    global s\n",
    "    n = len(x); x = '^' + x + '$'; S, π = g[0][0], g[0][2:]\n",
    "    s = [{(S, '', π, 0)}] + [set() for _ in range(n)]#; print('   s[ 0 ]:', S, '→ •', π, ', 0')\n",
    "    for i in range(n + 1):\n",
    "        v = set() # visited items\n",
    "        while v != s[i]:\n",
    "            e = (s[i] - v).pop(); v.add(e) # pick an arbirary un-visited item\n",
    "            A, σ, τ, j = e\n",
    "            if len(τ) > 0 and τ[0] == x[i + 1]: # match, a == τ[0]\n",
    "                f = (A, σ + '(' + τ[0] + ')', τ[1:], j)\n",
    "                s[i + 1].add(f)\n",
    "                print('M  s[', i + 1, ']:', f[0], '→', f[1], '•', f[2], ',', f[3])\n",
    "                #store animation data\n",
    "                graph_data.append(Expr(i+1, f[0], f[1], f[2], f[3], \"Match\"))\n",
    "            elif len(τ) > 0: # predict, B == ω[0]\n",
    "                for f in ((r[0], '', r[2:], i) for r in g if r[0] == τ[0]):\n",
    "                    s[i].add(f)\n",
    "                    print('P  s[', i, ']:', f[0], '→', f[1], '•', f[2], ',', f[3])\n",
    "                    #store animation data\n",
    "                    graph_data.append(Expr(i, f[0], f[1], f[2], f[3], \"Predict\"))\n",
    "            else: # complete, len(τ) == 0\n",
    "                for f in ((B, μ + '(' + ν[0] + σ + ')', ν[1:], k) for (B, μ, ν, k) in s[j] if len(ν) > 0 and ν[0] == A):\n",
    "                    s[i].add(f)\n",
    "                    print('C  s[', i, ']:', f[0], '→', f[1], '•', f[2], ',', f[3])\n",
    "                    #store animation data\n",
    "                    graph_data.append(Expr(i, f[0], f[1], f[2], f[3], \"Complete\"))\n",
    "    return {f[1] for f in s[n] if f[0] == S}"
   ]
  },
  {
   "cell_type": "code",
   "execution_count": null,
   "metadata": {
    "scrolled": false
   },
   "outputs": [],
   "source": [
    "G = (\"S→E\", \"E→a\", \"E→a+E\")\n",
    "parse(G, \"a+a+a\")"
   ]
  },
  {
   "cell_type": "code",
   "execution_count": null,
   "metadata": {},
   "outputs": [],
   "source": [
    "#generate png image file for each step\n",
    "#Expr(i,a,sigma,tau,j,method)\n",
    "for i in range(len(graph_data)):\n",
    "    t_str = '('+graph_data[i].a+graph_data[i].sigma+')'\n",
    "    t = nltk.Tree.fromstring(t_str)\n",
    "    src = Graph(t).draw()\n",
    "    g = Source(src,filename=str(i))\n",
    "    g.render(format='png')"
   ]
  },
  {
   "cell_type": "code",
   "execution_count": null,
   "metadata": {
    "scrolled": false
   },
   "outputs": [],
   "source": [
    "from ipywidgets import *\n",
    "from IPython.display import Image\n",
    "import time\n",
    "\n",
    "#set this to TRUE to auto-generate the stages\n",
    "auto_generate = False\n",
    "\n",
    "#define a button\n",
    "btn = widgets.Button(description='next')\n",
    "display(btn)\n",
    "\n",
    "#display generated png image using interactive button\n",
    "class Animate(object):\n",
    "    def __init__(self,data):\n",
    "        self.graph_data = data\n",
    "        self.i = 0\n",
    "        \n",
    "    def func(self,btn):\n",
    "        if self.i < len(graph_data):\n",
    "            item = graph_data[self.i]\n",
    "            print(\"\\x1b[91m\"+item.method+\"\\x1b[0m\")\n",
    "            print(item)\n",
    "            display(Image(filename=str(self.i)+'.png'))\n",
    "            self.i += 1\n",
    "        else:\n",
    "            print(\"===FINISH===\")\n",
    "            \n",
    "#initiate Animate class\n",
    "anime = Animate(graph_data)\n",
    "if auto_generate:\n",
    "    for i in range(len(graph_data)):\n",
    "        time.sleep(1)\n",
    "        anime.func(btn)\n",
    "else:\n",
    "    btn.on_click(anime.func)"
   ]
  },
  {
   "cell_type": "code",
   "execution_count": null,
   "metadata": {},
   "outputs": [],
   "source": []
  },
  {
   "cell_type": "code",
   "execution_count": null,
   "metadata": {},
   "outputs": [],
   "source": []
  }
 ],
 "metadata": {
  "kernelspec": {
   "display_name": "Python 3",
   "language": "python",
   "name": "python3"
  },
  "language_info": {
   "codemirror_mode": {
    "name": "ipython",
    "version": 3
   },
   "file_extension": ".py",
   "mimetype": "text/x-python",
   "name": "python",
   "nbconvert_exporter": "python",
   "pygments_lexer": "ipython3",
   "version": "3.8.1"
  }
 },
 "nbformat": 4,
 "nbformat_minor": 2
}
