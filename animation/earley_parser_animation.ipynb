{
 "cells": [
  {
   "cell_type": "code",
   "execution_count": null,
   "metadata": {},
   "outputs": [],
   "source": [
    "from parse_tree import Node,Graph,Digraph,nohtml,Source\n",
    "import nltk\n",
    "from ipywidgets import *\n",
    "from IPython.display import Image\n",
    "import time\n",
    "\n",
    "#Expr class to store each expression\n",
    "class Expr(object):\n",
    "    def __init__(self,i,a,sigma,tau,j,method):\n",
    "        self.i = i\n",
    "        self.a = a\n",
    "        self.sigma = sigma\n",
    "        self.method = method\n",
    "        self.tau = tau\n",
    "        self.j = j\n",
    "    def __str__(self):\n",
    "        return 's[' + str(self.i) + ']: ' + self.a + ' → ' + self.sigma + '•' + self.tau + ', ' + str(self.j)\n",
    "    \n",
    "class Animate(object):\n",
    "    def __init__(self,grammar,x,auto_generate=False):\n",
    "        #define an empty list to store the data used for animation\n",
    "        self.graph_data = []\n",
    "        result = self.parse(grammar,x)\n",
    "        if len(result) == 0:\n",
    "            print(\"Cannot accept this sentence!\")\n",
    "        #set this to TRUE to auto-generate the stages\n",
    "        self.auto_generate = auto_generate\n",
    "        #define a button\n",
    "        self.btn = widgets.Button(description='next')\n",
    "        display(self.btn)\n",
    "        #iterator\n",
    "        self.i = 0\n",
    "        \n",
    "    def parse(self,g: \"grammar\", x: \"input\"):\n",
    "        global s\n",
    "        n = len(x); x = '^' + x + '$'; S, π = g[0][0], g[0][2:]\n",
    "        s = [{(S, '', π, 0)}] + [set() for _ in range(n)]#; print('   s[ 0 ]:', S, '→ •', π, ', 0')\n",
    "        for i in range(n + 1):\n",
    "            v = set() # visited items\n",
    "            while v != s[i]:\n",
    "                e = (s[i] - v).pop(); v.add(e) # pick an arbirary un-visited item\n",
    "                A, σ, τ, j = e\n",
    "                if len(τ) > 0 and τ[0] == x[i + 1]: # match, a == τ[0]\n",
    "                    f = (A, σ + '(' + τ[0] + ')', τ[1:], j)\n",
    "                    s[i + 1].add(f)\n",
    "                    #print('M  s[', i + 1, ']:', f[0], '→', f[1], '•', f[2], ',', f[3])\n",
    "                    #store animation data\n",
    "                    self.graph_data.append(Expr(i+1, f[0], f[1], f[2], f[3], \"Match\"))\n",
    "                elif len(τ) > 0: # predict, B == ω[0]\n",
    "                    for f in ((r[0], '', r[2:], i) for r in g if r[0] == τ[0]):\n",
    "                        s[i].add(f)\n",
    "                        #print('P  s[', i, ']:', f[0], '→', f[1], '•', f[2], ',', f[3])\n",
    "                        #store animation data\n",
    "                        self.graph_data.append(Expr(i, f[0], f[1], f[2], f[3], \"Predict\"))\n",
    "                else: # complete, len(τ) == 0\n",
    "                    for f in ((B, μ + '(' + ν[0] + σ + ')', ν[1:], k) for (B, μ, ν, k) in s[j] if len(ν) > 0 and ν[0] == A):\n",
    "                        s[i].add(f)\n",
    "                        #print('C  s[', i, ']:', f[0], '→', f[1], '•', f[2], ',', f[3])\n",
    "                        #store animation data\n",
    "                        self.graph_data.append(Expr(i, f[0], f[1], f[2], f[3], \"Complete\"))\n",
    "        return {f[1] for f in s[n] if f[0] == S}\n",
    "    \n",
    "    def gen_img(self):\n",
    "        #generate png image file for each step\n",
    "        #Expr(i,a,sigma,tau,j,method)\n",
    "        for i in range(len(self.graph_data)):\n",
    "            t_str = '('+self.graph_data[i].a+self.graph_data[i].sigma+')'\n",
    "            t = nltk.Tree.fromstring(t_str)\n",
    "            src = Graph(t).draw()\n",
    "            g = Source(src,filename=str(i))\n",
    "            g.render(format='png')\n",
    "            \n",
    "    def func(self,btn):\n",
    "        if self.i < len(self.graph_data):\n",
    "            item = self.graph_data[self.i]\n",
    "            print(\"\\x1b[91m\"+item.method+\"\\x1b[0m\")\n",
    "            print(item)\n",
    "            display(Image(filename=str(self.i)+'.png'))\n",
    "            self.i += 1\n",
    "        else:\n",
    "            print(\"===FINISH===\")\n",
    "            \n",
    "    def display(self):\n",
    "        self.gen_img()\n",
    "        if self.auto_generate:\n",
    "            for i in range(len(self.graph_data)+1):\n",
    "                time.sleep(1)\n",
    "                self.func(self.btn)\n",
    "        else:\n",
    "            self.btn.on_click(self.func)"
   ]
  },
  {
   "cell_type": "markdown",
   "metadata": {},
   "source": [
    "### TEST CASE 0 (Error Test Case)"
   ]
  },
  {
   "cell_type": "code",
   "execution_count": null,
   "metadata": {
    "scrolled": false
   },
   "outputs": [],
   "source": [
    "g1 = (\"S→E\", \"E→a\", \"E→a+E\")\n",
    "x1 = \"a+a+\"\n",
    "\n",
    "a1 = Animate(g1,x1)\n",
    "a1.display()"
   ]
  },
  {
   "cell_type": "markdown",
   "metadata": {},
   "source": [
    "### TEST CASE 1"
   ]
  },
  {
   "cell_type": "code",
   "execution_count": null,
   "metadata": {
    "scrolled": false
   },
   "outputs": [],
   "source": [
    "g1 = (\"S→E\", \"E→a\", \"E→a+E\")\n",
    "x1 = \"a+a+a\"\n",
    "\n",
    "a1 = Animate(g1,x1,auto_generate=True)\n",
    "a1.display()"
   ]
  },
  {
   "cell_type": "markdown",
   "metadata": {},
   "source": [
    "### TEST CASE 2"
   ]
  },
  {
   "cell_type": "code",
   "execution_count": null,
   "metadata": {
    "scrolled": false
   },
   "outputs": [],
   "source": [
    "g2 = (\"S→E\", \"E→a\", \"E→a+E\")\n",
    "x2 = \"a+a\"\n",
    "\n",
    "a2 = Animate(g2,x2)\n",
    "a2.display()"
   ]
  },
  {
   "cell_type": "markdown",
   "metadata": {},
   "source": [
    "### TEST CASE 3"
   ]
  },
  {
   "cell_type": "code",
   "execution_count": null,
   "metadata": {
    "scrolled": false
   },
   "outputs": [],
   "source": [
    "g3 = (\"S→E\", \"E→a\", \"E→E+E\")\n",
    "x3 = \"a+a+a\"\n",
    "\n",
    "a3 = Animate(g3,x3,auto_generate=True)\n",
    "a3.display()"
   ]
  },
  {
   "cell_type": "markdown",
   "metadata": {},
   "source": [
    "### TEST CASE 4"
   ]
  },
  {
   "cell_type": "code",
   "execution_count": null,
   "metadata": {
    "scrolled": false
   },
   "outputs": [],
   "source": [
    "g4 = (\"S→E\", \"E→T\", \"E→E+T\", \"T→F\", \"T→T×F\", \"F→a\")\n",
    "x4 = \"a+a×a\"\n",
    "\n",
    "a4 = Animate(g4,x4,auto_generate=True)\n",
    "a4.display()"
   ]
  },
  {
   "cell_type": "markdown",
   "metadata": {},
   "source": [
    "### TEST CASE 5"
   ]
  },
  {
   "cell_type": "code",
   "execution_count": null,
   "metadata": {
    "scrolled": false
   },
   "outputs": [],
   "source": [
    "g5 = (\"S→E\", \"E→F\", \"E→E+F\", \"E→E-F\", \"F→a\")\n",
    "x5 = \"a-a+a\"\n",
    "\n",
    "a5 = Animate(g5,x5,auto_generate=True)\n",
    "a5.display()"
   ]
  },
  {
   "cell_type": "code",
   "execution_count": null,
   "metadata": {},
   "outputs": [],
   "source": []
  }
 ],
 "metadata": {
  "kernelspec": {
   "display_name": "Python 3",
   "language": "python",
   "name": "python3"
  },
  "language_info": {
   "codemirror_mode": {
    "name": "ipython",
    "version": 3
   },
   "file_extension": ".py",
   "mimetype": "text/x-python",
   "name": "python",
   "nbconvert_exporter": "python",
   "pygments_lexer": "ipython3",
   "version": "3.8.1"
  }
 },
 "nbformat": 4,
 "nbformat_minor": 2
}
