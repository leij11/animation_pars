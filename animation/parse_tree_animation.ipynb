{
 "cells": [
  {
   "cell_type": "code",
   "execution_count": null,
   "metadata": {
    "scrolled": false
   },
   "outputs": [],
   "source": [
    "import nltk\n",
    "from parse_tree import Node,Graph,Digraph,nohtml,Source\n",
    "from ipywidgets import *\n",
    "from IPython.display import Image\n",
    "import time\n",
    "\n",
    "class PTGraph(object):\n",
    "    def __init__(self,tree):\n",
    "        self.graph = Graph(tree)\n",
    "        self.graph.draw()\n",
    "    \n",
    "    def gen_img(self):\n",
    "        #generate png image for each stage in the derivation of sentence\n",
    "        init_edge = []\n",
    "        init_node = []\n",
    "        init_node.append(self.graph.dot_node[0])\n",
    "        for i in range(len(self.graph.dot_edge)):\n",
    "            init_edge.append(self.graph.dot_edge[i])\n",
    "            init_node.pop()\n",
    "            init_node.append(self.graph.dot_node[i])\n",
    "            temp = self.graph.dot_node[i+1][:-2]+' color=pink style=filled] \\n'\n",
    "            init_node.append(temp)\n",
    "            test = \"\".join(self.graph.dot_header + init_node + init_edge + self.graph.dot_footer)\n",
    "            g = Source(test,filename=str(i))\n",
    "            g.render(format='png')\n",
    "            \n",
    "    def func(self,x):\n",
    "        #display generated png image using slidebar\n",
    "        display(Image(filename=str(x)+'.png'))\n",
    "    \n",
    "    def display(self):\n",
    "        self.gen_img()\n",
    "        interact(self.func, x=widgets.IntSlider(min=0, max=len(self.graph.dot_edge)-1, step=1));"
   ]
  },
  {
   "cell_type": "markdown",
   "metadata": {},
   "source": [
    "### TEST CASE 1"
   ]
  },
  {
   "cell_type": "code",
   "execution_count": null,
   "metadata": {},
   "outputs": [],
   "source": [
    "grammar1 = nltk.CFG.fromstring(\"\"\"\n",
    "S -> NP VP\n",
    "PP -> P NP\n",
    "NP -> N | Det N\n",
    "VP -> V NP | VP PP | AVP NP\n",
    "AVP -> AV V\n",
    "AV -> 'will'\n",
    "Det -> 'the'\n",
    "N -> 'fine' | 'end' | 'Everything'\n",
    "V -> 'be'\n",
    "P -> 'in'\n",
    "\"\"\")\n",
    "parser1 = nltk.ChartParser(grammar1)\n",
    "\n",
    "sentence1 = ['Everything','will','be','fine']\n",
    "t1 = list(parser1.parse(sentence1))[0]\n",
    "print(t1)\n",
    "pt1 = PTGraph(t1)\n",
    "pt1.display()"
   ]
  },
  {
   "cell_type": "markdown",
   "metadata": {},
   "source": [
    "### TEST CASE 2"
   ]
  },
  {
   "cell_type": "code",
   "execution_count": null,
   "metadata": {},
   "outputs": [],
   "source": [
    "grammar2 = nltk.CFG.fromstring(\"\"\"\n",
    "S -> NP VP\n",
    "PP -> P NP\n",
    "NP -> N | Det N\n",
    "VP -> V NP | VP PP | AVP NP\n",
    "AVP -> AV V\n",
    "AV -> 'will'\n",
    "Det -> 'the'\n",
    "N -> 'fine' | 'end' | 'Everything'\n",
    "V -> 'be'\n",
    "P -> 'in'\n",
    "\"\"\")\n",
    "parser2 = nltk.ChartParser(grammar2)\n",
    "\n",
    "sentence2 = ['Everything','will','be','fine','in','the','end']\n",
    "t2 = list(parser2.parse(sentence2))[0]\n",
    "print(t2)\n",
    "pt2 = PTGraph(t2)\n",
    "pt2.display()"
   ]
  },
  {
   "cell_type": "markdown",
   "metadata": {},
   "source": [
    "### TEST CASE 3"
   ]
  },
  {
   "cell_type": "code",
   "execution_count": null,
   "metadata": {},
   "outputs": [],
   "source": [
    "grammar3 = nltk.CFG.fromstring(\"\"\"\n",
    "S -> 'a' S 'b' S | 'b' S 'a' S |\n",
    "\"\"\")\n",
    "parser3 = nltk.ChartParser(grammar3)\n",
    "\n",
    "sentence3 = ['a','b','a','b']\n",
    "t3 = list(parser3.parse(sentence3))[0]\n",
    "print(t3)\n",
    "pt3 = PTGraph(t3)\n",
    "pt3.display()"
   ]
  },
  {
   "cell_type": "markdown",
   "metadata": {},
   "source": [
    "### TEST CASE 4"
   ]
  },
  {
   "cell_type": "code",
   "execution_count": null,
   "metadata": {},
   "outputs": [],
   "source": [
    "grammar4 = nltk.CFG.fromstring(\"\"\"\n",
    "S -> 'a' S 'b' S | 'b' S 'a' S |\n",
    "\"\"\")\n",
    "parser4 = nltk.ChartParser(grammar3)\n",
    "\n",
    "sentence4 = ['a','b','a','b']\n",
    "t4 = list(parser4.parse(sentence4))[1]\n",
    "print(t4)\n",
    "pt4 = PTGraph(t4)\n",
    "pt4.display()"
   ]
  },
  {
   "cell_type": "markdown",
   "metadata": {},
   "source": [
    "### TEST CASE 5"
   ]
  },
  {
   "cell_type": "code",
   "execution_count": null,
   "metadata": {},
   "outputs": [],
   "source": [
    "grammar5 = nltk.CFG.fromstring(\"\"\"\n",
    "E -> T | E O T\n",
    "T -> F | T '*' F\n",
    "F -> 'id' | '(' E ')'\n",
    "O -> '+'\n",
    "\"\"\")\n",
    "parser5 = nltk.ChartParser(grammar5)\n",
    "\n",
    "sentence5 = ['id','*','(','id','+','id', ')']\n",
    "t5 = list(parser5.parse(sentence5))[0]\n",
    "print(t5)\n",
    "pt5 = PTGraph(t5)\n",
    "pt5.display()"
   ]
  },
  {
   "cell_type": "code",
   "execution_count": null,
   "metadata": {},
   "outputs": [],
   "source": []
  }
 ],
 "metadata": {
  "kernelspec": {
   "display_name": "Python 3",
   "language": "python",
   "name": "python3"
  },
  "language_info": {
   "codemirror_mode": {
    "name": "ipython",
    "version": 3
   },
   "file_extension": ".py",
   "mimetype": "text/x-python",
   "name": "python",
   "nbconvert_exporter": "python",
   "pygments_lexer": "ipython3",
   "version": "3.8.1"
  }
 },
 "nbformat": 4,
 "nbformat_minor": 2
}
