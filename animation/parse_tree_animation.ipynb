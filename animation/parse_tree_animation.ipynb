{
 "cells": [
  {
   "cell_type": "code",
   "execution_count": null,
   "metadata": {
    "scrolled": false
   },
   "outputs": [],
   "source": [
    "import nltk\n",
    "from parse_tree import Node,Graph,Digraph,nohtml,Source\n",
    "\n",
    "groucho_grammar = nltk.CFG.fromstring(\"\"\"\n",
    "S -> NP VP\n",
    "PP -> P NP\n",
    "NP -> N | Det N\n",
    "VP -> V NP | VP PP | AVP NP\n",
    "AVP -> AV V\n",
    "AV -> 'will'\n",
    "Det -> 'the'\n",
    "N -> 'fine' | 'end' | 'Everything'\n",
    "V -> 'be'\n",
    "P -> 'in'\n",
    "\"\"\")\n",
    "parser = nltk.ChartParser(groucho_grammar)\n",
    "\n",
    "sentence = ['Everything','will','be','fine','in','the','end']\n",
    "trees = list(parser.parse(sentence))\n",
    "t = trees[0]\n",
    "print(t)"
   ]
  },
  {
   "cell_type": "code",
   "execution_count": null,
   "metadata": {
    "scrolled": false
   },
   "outputs": [],
   "source": [
    "graph = Graph(t)\n",
    "src = graph.draw()\n",
    "#see the generated DOT source code\n",
    "print(src)"
   ]
  },
  {
   "cell_type": "code",
   "execution_count": null,
   "metadata": {
    "scrolled": false
   },
   "outputs": [],
   "source": [
    "#graph\n",
    "g = Source(src)\n",
    "g"
   ]
  },
  {
   "cell_type": "code",
   "execution_count": null,
   "metadata": {
    "scrolled": false
   },
   "outputs": [],
   "source": [
    "#generate png image for each stage in the derivation of sentence\n",
    "init_edge = []\n",
    "init_node = []\n",
    "init_node.append(graph.dot_node[0])\n",
    "for i in range(len(graph.dot_edge)):\n",
    "    init_edge.append(graph.dot_edge[i])\n",
    "    init_node.pop()\n",
    "    init_node.append(graph.dot_node[i])\n",
    "    temp = graph.dot_node[i+1][:-2]+' color=pink style=filled] \\n'\n",
    "    init_node.append(temp)\n",
    "    test = \"\".join(graph.dot_header + init_node + init_edge + graph.dot_footer)\n",
    "    g = Source(test,filename=str(i))\n",
    "    g.render(format='png')"
   ]
  },
  {
   "cell_type": "code",
   "execution_count": null,
   "metadata": {},
   "outputs": [],
   "source": [
    "from ipywidgets import *\n",
    "from IPython.display import Image\n",
    "import time\n",
    "\n",
    "#display generated png image using slidebar\n",
    "def func(x):\n",
    "    display(Image(filename=str(x)+'.png'))\n",
    "\n",
    "interact(func, x=widgets.IntSlider(min=0, max=len(graph.dot_edge)-1, step=1));"
   ]
  },
  {
   "cell_type": "code",
   "execution_count": null,
   "metadata": {},
   "outputs": [],
   "source": []
  }
 ],
 "metadata": {
  "kernelspec": {
   "display_name": "Python 3",
   "language": "python",
   "name": "python3"
  },
  "language_info": {
   "codemirror_mode": {
    "name": "ipython",
    "version": 3
   },
   "file_extension": ".py",
   "mimetype": "text/x-python",
   "name": "python",
   "nbconvert_exporter": "python",
   "pygments_lexer": "ipython3",
   "version": "3.8.1"
  }
 },
 "nbformat": 4,
 "nbformat_minor": 2
}
