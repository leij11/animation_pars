{
 "cells": [
  {
   "cell_type": "code",
   "execution_count": null,
   "metadata": {
    "scrolled": false
   },
   "outputs": [],
   "source": [
    "import nltk\n",
    "groucho_grammar = nltk.CFG.fromstring(\"\"\"\n",
    "S -> NP VP\n",
    "PP -> P NP\n",
    "NP -> N | Det N\n",
    "VP -> V NP | VP PP | AVP NP\n",
    "AVP -> AV V\n",
    "AV -> 'will'\n",
    "Det -> 'the'\n",
    "N -> 'fine' | 'end' | 'Everything'\n",
    "V -> 'be'\n",
    "P -> 'in'\n",
    "\"\"\")\n",
    "parser = nltk.ChartParser(groucho_grammar)\n",
    "\n",
    "sentence = ['Everything','will','be','fine','in','the','end']\n",
    "trees = list(parser.parse(sentence))\n",
    "t = trees[0]\n",
    "print(t)"
   ]
  },
  {
   "cell_type": "code",
   "execution_count": null,
   "metadata": {
    "scrolled": false
   },
   "outputs": [],
   "source": [
    "import textwrap\n",
    "from graphviz import Digraph, nohtml, Source\n",
    "\n",
    "# generate dot source code\n",
    "#define a class to represent each nodes\n",
    "class Node(object):\n",
    "    def __init__(self,n,value,leaf=False):\n",
    "        self.n = n\n",
    "        self.value = value\n",
    "        self.leaf = leaf\n",
    "    def __str__(self):\n",
    "        return str(self.value)+str(self.n)\n",
    "    def isLeaf(self):\n",
    "        return self.leaf\n",
    "\n",
    "class graph(object):\n",
    "    def __init__(self,tree):\n",
    "        self.tree = tree\n",
    "        self.dot_header = [textwrap.dedent(\"\"\"\n",
    "                            digraph {\n",
    "                            node [shape=circle, fontsize=12, fontname=\"Courier\", height=.1];\n",
    "                            ranksep=.3;\n",
    "                            edge [arrowsize=.5]\n",
    "                            \"\"\")]\n",
    "        self.dot_body = []\n",
    "        self.n_count = 0\n",
    "        self.dot_footer = ['}']\n",
    "        self.g = \"\"\n",
    "    \n",
    "    #replace each node label with Node object in abstract syntax tree\n",
    "    #using depth first search to iterate each node\n",
    "    def re_node(self,tree):\n",
    "        s = '  node{} [label=\"{}\"]\\n'.format(self.n_count, tree.label())\n",
    "        self.dot_body.append(s)\n",
    "        tree.set_label(Node(self.n_count,tree.label()))\n",
    "        self.n_count += 1\n",
    "        for item in tree:\n",
    "            if not isinstance(item,str):\n",
    "                self.re_node(item)\n",
    "            else:\n",
    "                s = '  node{} [label=\"{}\"]\\n'.format(self.n_count, item)\n",
    "                self.dot_body.append(s)\n",
    "                tree[0] = Node(self.n_count,item,True)\n",
    "                self.n_count += 1\n",
    "        \n",
    "    #navigate each edges in ast recursively using dfs\n",
    "    def dfs(self,tree):\n",
    "        src = tree.label()\n",
    "        for item in tree:\n",
    "            if not isinstance(item,Node):\n",
    "                dest = item.label()\n",
    "                s = '  node{} -> node{}\\n'.format(src.n, dest.n)\n",
    "                self.dot_body.append(s)\n",
    "                self.dfs(item)\n",
    "            else:\n",
    "                src = tree.label()\n",
    "                dest = item\n",
    "                self.n_count += 1\n",
    "                s = '  node{} -> node{}\\n'.format(src.n, dest.n)\n",
    "                self.dot_body.append(s)\n",
    "                \n",
    "    def draw(self):\n",
    "        self.re_node(self.tree)\n",
    "        self.dfs(self.tree)\n",
    "        g = \"\".join(self.dot_header + self.dot_body + self.dot_footer)\n",
    "        return g\n",
    "\n",
    "src = graph(t).draw()\n",
    "#see the generated DOT source code\n",
    "print(src)"
   ]
  },
  {
   "cell_type": "code",
   "execution_count": null,
   "metadata": {
    "scrolled": false
   },
   "outputs": [],
   "source": [
    "#graph\n",
    "g = Source(src)\n",
    "g"
   ]
  },
  {
   "cell_type": "code",
   "execution_count": null,
   "metadata": {
    "scrolled": false
   },
   "outputs": [],
   "source": [
    "#generate png image for each word in the sentence\n",
    "lines = src.split(\"\\n\")\n",
    "for i in range(len(sentence)):\n",
    "    test = src.replace(sentence[i]+'\"]',sentence[i]+'\" color=pink style=filled]')\n",
    "    g = Source(test,filename=str(i))\n",
    "    g.render(format='png')"
   ]
  },
  {
   "cell_type": "code",
   "execution_count": null,
   "metadata": {},
   "outputs": [],
   "source": [
    "from ipywidgets import *\n",
    "from IPython.display import Image\n",
    "import time\n",
    "\n",
    "#display generated png image using slidebar\n",
    "def func(x):\n",
    "    for i in range(len(sentence)):\n",
    "        if i==x:\n",
    "            print(\"\\x1b[31m\"+sentence[i]+\"\\x1b[0m\", end=' ')\n",
    "        else:\n",
    "            print(sentence[i], end = ' ')\n",
    "    print()\n",
    "    display(Image(filename=str(x)+'.png'))\n",
    "\n",
    "interact(func, x=widgets.IntSlider(min=0, max=len(sentence)-1, step=1));"
   ]
  },
  {
   "cell_type": "code",
   "execution_count": null,
   "metadata": {},
   "outputs": [],
   "source": []
  }
 ],
 "metadata": {
  "kernelspec": {
   "display_name": "Python 3",
   "language": "python",
   "name": "python3"
  },
  "language_info": {
   "codemirror_mode": {
    "name": "ipython",
    "version": 3
   },
   "file_extension": ".py",
   "mimetype": "text/x-python",
   "name": "python",
   "nbconvert_exporter": "python",
   "pygments_lexer": "ipython3",
   "version": "3.8.1"
  }
 },
 "nbformat": 4,
 "nbformat_minor": 2
}
