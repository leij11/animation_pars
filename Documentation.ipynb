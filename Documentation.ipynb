{
 "cells": [
  {
   "cell_type": "markdown",
   "metadata": {},
   "source": [
    "# Documentation\n",
    "By group02 (Jessica Lei, Mingnan Su)"
   ]
  },
  {
   "cell_type": "markdown",
   "metadata": {},
   "source": [
    "Dependencies\n",
    "---\n",
    "1. Python 3\n",
    "2. Python packages listed in requirements.txt. \n",
    "   Run pip install -r requirements.txt from this directory to install them."
   ]
  },
  {
   "cell_type": "markdown",
   "metadata": {},
   "source": [
    "Part 1 - Finite State Machine\n",
    "---"
   ]
  },
  {
   "cell_type": "markdown",
   "metadata": {},
   "source": [
    "State Class\n",
    "---"
   ]
  },
  {
   "cell_type": "markdown",
   "metadata": {},
   "source": [
    "States are objects we defined to represent each node in the Finite State Machine. For a valid Finite State Machine, each state need to be initiazed as a object before using it."
   ]
  },
  {
   "cell_type": "markdown",
   "metadata": {},
   "source": [
    "|`Attributes`    |`Description`  |\n",
    "|:---------|--------|\n",
    "|`name:`  | `State name for each node in the machien` |\n",
    "|`ignore_invalid_triggers (bool): ` | `Rise error for invalid state` |"
   ]
  },
  {
   "cell_type": "markdown",
   "metadata": {},
   "source": [
    "|`Method Name`    |`Description`  |\n",
    "|:---------|--------|\n",
    "|`__init__` | `Initalize the State object` |\n",
    "|`value` | `Return the name of the state` |"
   ]
  },
  {
   "cell_type": "markdown",
   "metadata": {},
   "source": [
    "Transition Class\n",
    "---"
   ]
  },
  {
   "cell_type": "markdown",
   "metadata": {},
   "source": [
    "Transition represents the relationship between States objects. The way to initialize it is to use dictionary to parse a set of tranitions. "
   ]
  },
  {
   "cell_type": "markdown",
   "metadata": {},
   "source": [
    "|`Attributes`    |`Description`  |\n",
    "|:---------|--------|\n",
    "|`source:`  | `Source state of the transition.` |\n",
    "|`dest: ` | `Destination state of the transition.` |"
   ]
  },
  {
   "cell_type": "markdown",
   "metadata": {},
   "source": [
    "|`Method Name`    |`Description`  |\n",
    "|:---------|--------|\n",
    "|`__init__` | `Initalize the Transition object for the machine` |\n",
    "|`execute` | `Execute the transition` |\n",
    "|`_change_state` | `Make changes to the state including set and update the state` |"
   ]
  },
  {
   "cell_type": "markdown",
   "metadata": {},
   "source": [
    "Machine Class\n",
    "---"
   ]
  },
  {
   "cell_type": "markdown",
   "metadata": {},
   "source": [
    "Finite State Machine class is the central class that controls states, transitions and models. "
   ]
  },
  {
   "cell_type": "markdown",
   "metadata": {},
   "source": [
    "|`Attributes`    |`Description`  |\n",
    "|:---------|--------|\n",
    "|`states:`  | `List of states` |\n",
    "|`events: ` | `List of transitions` |\n",
    "|`model:  ` | `List of models for the machine` |\n",
    "|`inital: ` | `The inital state` |\n",
    "|`auto_transition: ` | `When true, it will automatically associate to the transitions and states` |"
   ]
  },
  {
   "cell_type": "markdown",
   "metadata": {},
   "source": [
    "|`Method Name`    |`Description`  |\n",
    "|:---------|--------|\n",
    "|`to_list`  | `A method that converts any type of object into list` |\n",
    "|`__init__` | `Initalize the finite state machine` |\n",
    "|`add_states` | `Create new state in the model` |\n",
    "|`set_states` | `Set to the given state` |\n",
    "|`is_states` | `Check whether the current state matches the input state` |\n",
    "|`get_states` | `Return the State with the input name` |\n",
    "|`add_model` | `Create new model in the machine` |\n",
    "|`add_transition` | `Create new transition in the model` |\n",
    "|`get_transitions` | `Return the transition with the input name` |\n",
    "|`add_transitions` | `Add several transitions` |"
   ]
  },
  {
   "cell_type": "markdown",
   "metadata": {},
   "source": [
    "Action Class\n",
    "---"
   ]
  },
  {
   "cell_type": "markdown",
   "metadata": {},
   "source": [
    "A class that manages a set of transitions assigned to the same trigger."
   ]
  },
  {
   "cell_type": "markdown",
   "metadata": {},
   "source": [
    "|`Attributes`    |`Description`  |\n",
    "|:---------|--------|\n",
    "|`name:`  | `Name of the trigger` |\n",
    "|`machine: ` | `The current Finite State Machine` |"
   ]
  },
  {
   "cell_type": "markdown",
   "metadata": {},
   "source": [
    "|`Method Name`    |`Description`  |\n",
    "|:---------|--------|\n",
    "|`__init__` | `Initalize the action class with parameters name and machine` |\n",
    "|`add_transition` | `Add a transition to the list of potential transitions` |\n",
    "|`trigger` | `Execute all transitions that match the current state,` |\n",
    "|`update` | `Updates the object with the passed state.` |"
   ]
  }
 ],
 "metadata": {
  "kernelspec": {
   "display_name": "Python 3",
   "language": "python",
   "name": "python3"
  },
  "language_info": {
   "codemirror_mode": {
    "name": "ipython",
    "version": 3
   },
   "file_extension": ".py",
   "mimetype": "text/x-python",
   "name": "python",
   "nbconvert_exporter": "python",
   "pygments_lexer": "ipython3",
   "version": "3.7.4"
  }
 },
 "nbformat": 4,
 "nbformat_minor": 2
}
