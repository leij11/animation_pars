{
 "cells": [
  {
   "cell_type": "markdown",
   "metadata": {},
   "source": [
    "# Documentation\n",
    "By group02 (Jessica Lei, Mingnan Su)"
   ]
  },
  {
   "cell_type": "markdown",
   "metadata": {},
   "source": [
    "Dependencies\n",
    "---\n",
    "#### 1. Python 3   \n",
    "Please download it here https://www.python.org/downloads/"
   ]
  },
  {
   "cell_type": "markdown",
   "metadata": {},
   "source": [
    "#### 2. Graphviz Tool\n",
    "Please download it here https://www.graphviz.org/download/    \n",
    "Please make sure that `bin` folder is in system environmental variable."
   ]
  },
  {
   "cell_type": "markdown",
   "metadata": {},
   "source": [
    "#### 3. Jupyter Notebook"
   ]
  },
  {
   "cell_type": "code",
   "execution_count": null,
   "metadata": {},
   "outputs": [],
   "source": [
    "%pip install jupyter"
   ]
  },
  {
   "cell_type": "markdown",
   "metadata": {},
   "source": [
    "#### 4. graphviz Python"
   ]
  },
  {
   "cell_type": "code",
   "execution_count": null,
   "metadata": {},
   "outputs": [],
   "source": [
    "%pip install graphviz"
   ]
  },
  {
   "cell_type": "markdown",
   "metadata": {},
   "source": [
    "#### 5. nltk"
   ]
  },
  {
   "cell_type": "code",
   "execution_count": null,
   "metadata": {},
   "outputs": [],
   "source": [
    "%pip install nltk"
   ]
  },
  {
   "cell_type": "markdown",
   "metadata": {},
   "source": [
    "Part 1 - Finite State Machine\n",
    "---"
   ]
  },
  {
   "cell_type": "markdown",
   "metadata": {},
   "source": [
    "State Class\n",
    "---"
   ]
  },
  {
   "cell_type": "markdown",
   "metadata": {},
   "source": [
    "States are objects we defined to represent each node in the Finite State Machine. For a valid Finite State Machine, each state need to be initiazed as a object before using it."
   ]
  },
  {
   "cell_type": "markdown",
   "metadata": {},
   "source": [
    "|`Attributes`    |`Description`  |\n",
    "|:---------|--------|\n",
    "|`name:`  | `State name for each node in the machien` |\n",
    "|`ignore_invalid_triggers (bool): ` | `Rise error for invalid state` |"
   ]
  },
  {
   "cell_type": "markdown",
   "metadata": {},
   "source": [
    "|`Method Name`    |`Description`  |\n",
    "|:---------|--------|\n",
    "|`__init__` | `Initalize the State object` |\n",
    "|`value` | `Return the name of the state` |"
   ]
  },
  {
   "cell_type": "markdown",
   "metadata": {},
   "source": [
    "Transition Class\n",
    "---"
   ]
  },
  {
   "cell_type": "markdown",
   "metadata": {},
   "source": [
    "Transition represents the relationship between States objects. The way to initialize it is to use dictionary to parse a set of tranitions. "
   ]
  },
  {
   "cell_type": "markdown",
   "metadata": {},
   "source": [
    "|`Attributes`    |`Description`  |\n",
    "|:---------|--------|\n",
    "|`source:`  | `Source state of the transition.` |\n",
    "|`dest: ` | `Destination state of the transition.` |"
   ]
  },
  {
   "cell_type": "markdown",
   "metadata": {},
   "source": [
    "|`Method Name`    |`Description`  |\n",
    "|:---------|--------|\n",
    "|`__init__` | `Initalize the Transition object for the machine` |\n",
    "|`execute` | `Execute the transition` |\n",
    "|`_change_state` | `Make changes to the state including set and update the state` |"
   ]
  },
  {
   "cell_type": "markdown",
   "metadata": {},
   "source": [
    "Machine Class\n",
    "---"
   ]
  },
  {
   "cell_type": "markdown",
   "metadata": {},
   "source": [
    "Finite State Machine class is the central class that controls states, transitions and models. "
   ]
  },
  {
   "cell_type": "markdown",
   "metadata": {},
   "source": [
    "|`Attributes`    |`Description`  |\n",
    "|:---------|--------|\n",
    "|`states:`  | `List of states` |\n",
    "|`events: ` | `List of transitions` |\n",
    "|`model:  ` | `List of models for the machine` |\n",
    "|`inital: ` | `The inital state` |\n",
    "|`auto_transition: ` | `When true, it will automatically associate to the transitions and states` |"
   ]
  },
  {
   "cell_type": "markdown",
   "metadata": {},
   "source": [
    "|`Method Name`    |`Description`  |\n",
    "|:---------|--------|\n",
    "|`to_list`  | `A method that converts any type of object into list` |\n",
    "|`__init__` | `Initalize the finite state machine` |\n",
    "|`add_states` | `Create new state in the model` |\n",
    "|`set_states` | `Set to the given state` |\n",
    "|`is_states` | `Check whether the current state matches the input state` |\n",
    "|`get_states` | `Return the State with the input name` |\n",
    "|`add_model` | `Create new model in the machine` |\n",
    "|`add_transition` | `Create new transition in the model` |\n",
    "|`get_transitions` | `Return the transition with the input name` |\n",
    "|`add_transitions` | `Add several transitions` |"
   ]
  },
  {
   "cell_type": "markdown",
   "metadata": {},
   "source": [
    "Action Class\n",
    "---"
   ]
  },
  {
   "cell_type": "markdown",
   "metadata": {},
   "source": [
    "A class that manages a set of transitions assigned to the same trigger."
   ]
  },
  {
   "cell_type": "markdown",
   "metadata": {},
   "source": [
    "|`Attributes`    |`Description`  |\n",
    "|:---------|--------|\n",
    "|`name:`  | `Name of the trigger` |\n",
    "|`machine: ` | `The current Finite State Machine` |"
   ]
  },
  {
   "cell_type": "markdown",
   "metadata": {},
   "source": [
    "|`Method Name`    |`Description`  |\n",
    "|:---------|--------|\n",
    "|`__init__` | `Initalize the action class with parameters name and machine` |\n",
    "|`add_transition` | `Add a transition to the list of potential transitions` |\n",
    "|`trigger` | `Execute all transitions that match the current state,` |\n",
    "|`update` | `Updates the object with the passed state.` |"
   ]
  },
  {
   "cell_type": "markdown",
   "metadata": {},
   "source": [
    "Part 2 - ./animation/parse_tree.py\n",
    "---\n",
    "This file contains several helper class. In this file, we utilize textwrap and graphviz python packages."
   ]
  },
  {
   "cell_type": "markdown",
   "metadata": {},
   "source": [
    "### Node Class\n",
    "A class designed to represent each node in a parse tree."
   ]
  },
  {
   "cell_type": "markdown",
   "metadata": {},
   "source": [
    "|`Attributes`    |`Description`  |\n",
    "|:---------|--------|\n",
    "|`n:`  | `the unique ID of current node` |\n",
    "|`value: ` | `The label value of the node` |"
   ]
  },
  {
   "cell_type": "markdown",
   "metadata": {},
   "source": [
    "|`Method Name`    |`Description`  |\n",
    "|:---------|--------|\n",
    "|`__init__` | `Initalize the Node class` |\n",
    "|`__repr__` | `Return the string representation of the class` |"
   ]
  },
  {
   "cell_type": "markdown",
   "metadata": {},
   "source": [
    "### Graph Class\n",
    "A class designed to generate graphviz source code."
   ]
  },
  {
   "cell_type": "markdown",
   "metadata": {},
   "source": [
    "|`Attributes`    |`Description`  |\n",
    "|:---------|--------|\n",
    "|`tree:`  | `abstract syntax tree that is going to draw` |\n",
    "|`dot_header: ` | `header of the generated code` |\n",
    "|`dot_node: ` | `dot code which define the attribute of nodes` |\n",
    "|`dot_edge: ` | `dot code which define the attribute of edges` |\n",
    "|`dot_footer: ` | `footer of the generated DOT code` |\n",
    "|`n_count: ` | `an iterator to keep track of the ID` |"
   ]
  },
  {
   "cell_type": "markdown",
   "metadata": {},
   "source": [
    "|`Method Name`    |`Description`  |\n",
    "|:---------|--------|\n",
    "|`__init__` | `Initalize the Graph class` |\n",
    "|`re_node` | `By using depth first search, visit each node and replace it with a Node class and add corresponding node in dot_node` |\n",
    "|`dfs` | `By using depth first search, visit each edge and add corresponding edge in dot_edge` |\n",
    "|`draw` | `return the generated DOT code` |"
   ]
  },
  {
   "cell_type": "markdown",
   "metadata": {},
   "source": [
    "Part 3 - ./animation/fsm_animation.ipynb\n",
    "---\n",
    "This file contains the animation of execution of FSM. Specification of FSM machine can be found in Part 1. In this notebook, we utilize ipywidgets, graphviz tool and graphviz python package."
   ]
  },
  {
   "cell_type": "markdown",
   "metadata": {},
   "source": [
    "### FSMGraph Class\n",
    "A class designed to display the animation graph in interactive method."
   ]
  },
  {
   "cell_type": "markdown",
   "metadata": {},
   "source": [
    "|`Attributes`    |`Description`  |\n",
    "|:---------|--------|\n",
    "|`states:`  | `all the sates in the FSM` |\n",
    "|`finals: ` | `all the final states in the FSM` |\n",
    "|`transitions: ` | `all the transitions in the FSM` |\n",
    "|`check_str: ` | `the string that enters FSM` |\n",
    "|`model: ` | `the model used for FSM` |\n",
    "|`machine: ` | `Fsm class object` |"
   ]
  },
  {
   "cell_type": "markdown",
   "metadata": {},
   "source": [
    "|`Method Name`    |`Description`  |\n",
    "|:---------|--------|\n",
    "|`__init__` | `Initalize the FSMGraph class` |\n",
    "|`draw` | `return the Digraph class which contains the diagram of FSM` |\n",
    "|`gen_img` | `generate a list of stage images` |\n",
    "|`func` | `display images with given index` |\n",
    "|`display` | `display interactie slide bar and stage images` |"
   ]
  },
  {
   "cell_type": "markdown",
   "metadata": {},
   "source": [
    "Part 4 - ./animation/parse_tree_animation.ipynb\n",
    "---\n",
    "This file contains the animation of parse tree. In this notebook, we utilize ipywidgets, graphviz tool, graphviz python package , nltk python package and parse_tree.py"
   ]
  },
  {
   "cell_type": "markdown",
   "metadata": {},
   "source": [
    "### PTGraph Class\n",
    "A class designed to display the animation graph in interactive method."
   ]
  },
  {
   "cell_type": "markdown",
   "metadata": {},
   "source": [
    "|`Attributes`    |`Description`  |\n",
    "|:---------|--------|\n",
    "|`graph:`  | `Graph class object from parse_tree.py` |"
   ]
  },
  {
   "cell_type": "markdown",
   "metadata": {},
   "source": [
    "|`Method Name`    |`Description`  |\n",
    "|:---------|--------|\n",
    "|`__init__` | `Initalize the PTGraph class` |\n",
    "|`gen_img` | `generate a list of stage images` |\n",
    "|`func` | `display images with given index` |\n",
    "|`display` | `display interactie slide bar and stage images` |"
   ]
  },
  {
   "cell_type": "markdown",
   "metadata": {},
   "source": [
    "Part 5 - ./animation/earley_parser_animation.ipynb\n",
    "---\n",
    "This file contains the animation of earley parser algorithm. In this notebook, the python code of algorithm is modified from Lecture notes 11. Besides that, we utilize ipywidgets package."
   ]
  },
  {
   "cell_type": "markdown",
   "metadata": {},
   "source": [
    "### Expr Class\n",
    "A class designed to store the value of each expression."
   ]
  },
  {
   "cell_type": "markdown",
   "metadata": {},
   "source": [
    "|`Attributes`    |`Description`  |\n",
    "|:---------|--------|\n",
    "|`i:`  | `the indicies of s` |\n",
    "|`a: ` | `A in (A → σ • τ, j)` |\n",
    "|`method: ` | `indicates attribute of current stage: Predict, Complete or Match` |\n",
    "|`tau: ` | `τ in (A → σ • τ, j)` |\n",
    "|`j: ` | `j in (A → σ • τ, j)` |\n",
    "|`sigma: ` | `σ in (A → σ • τ, j)` |"
   ]
  },
  {
   "cell_type": "markdown",
   "metadata": {},
   "source": [
    "|`Method Name`    |`Description`  |\n",
    "|:---------|--------|\n",
    "|`__init__` | `Initalize the Expr class` |\n",
    "|`__str__` | `return the string representation of the class` |"
   ]
  },
  {
   "cell_type": "markdown",
   "metadata": {},
   "source": [
    "### Modification version of earley's parser from Lecture notes 11\n",
    "In order to return string representation of a parse tree in certain form, we modify the function `parse()` from Lecutre Notes 11. In this representation, each brackets represents a leaf or tree.\n",
    "\n",
    "#### More specifically:   \n",
    "In Match step, instead of adding `(A → σ a • ω, j)`, we add `(A → σ (a) • ω, j)`   \n",
    "In Complete step, instead of adding `(B → μ A • ξ, k)`, we add `(B → μ (Aσ) • ξ, k)`"
   ]
  },
  {
   "cell_type": "markdown",
   "metadata": {},
   "source": [
    "### Animate Class\n",
    "A class designed to animate the given graph data."
   ]
  },
  {
   "cell_type": "markdown",
   "metadata": {},
   "source": [
    "|`Attributes`    |`Description`  |\n",
    "|:---------|--------|\n",
    "|`graph_data:`  | `the list of data generated for the purpose of animation` |\n",
    "|`i: ` | `an iterator to keep track if the index of graph_data` |\n",
    "|`auto_generate: ` | `determine the method of animation generator` |\n",
    "|`btn: ` | `define a clickable button widgets` |"
   ]
  },
  {
   "cell_type": "markdown",
   "metadata": {},
   "source": [
    "|`Method Name`    |`Description`  |\n",
    "|:---------|--------|\n",
    "|`__init__` | `Initalize the Animate class` |\n",
    "|`parse` | `modified earley's parser from Lecture notes 11` |\n",
    "|`gen_img` | `generate a list of images where contains stage information` |\n",
    "|`func` | `display graph_data at index self.i, and then increment i` |\n",
    "|`display` | `display the animation` |"
   ]
  }
 ],
 "metadata": {
  "kernelspec": {
   "display_name": "Python 3",
   "language": "python",
   "name": "python3"
  },
  "language_info": {
   "codemirror_mode": {
    "name": "ipython",
    "version": 3
   },
   "file_extension": ".py",
   "mimetype": "text/x-python",
   "name": "python",
   "nbconvert_exporter": "python",
   "pygments_lexer": "ipython3",
   "version": "3.8.1"
  }
 },
 "nbformat": 4,
 "nbformat_minor": 2
}
