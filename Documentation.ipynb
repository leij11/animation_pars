{
 "cells": [
  {
   "cell_type": "markdown",
   "metadata": {},
   "source": [
    "# Documentation\n",
    "By group02 (Jessica Lei, Mingnan Su)"
   ]
  },
  {
   "cell_type": "markdown",
   "metadata": {},
   "source": [
    "Dependencies\n",
    "---\n",
    "#### 1. Python 3   \n",
    "##### Installation\n",
    "Please download it here https://www.python.org/downloads/"
   ]
  },
  {
   "cell_type": "markdown",
   "metadata": {},
   "source": [
    "##### Usage\n",
    "Navigate to the working directory, run the following command to run your code:   \n",
    "`python <your_file.py>`"
   ]
  },
  {
   "cell_type": "markdown",
   "metadata": {},
   "source": [
    "#### 2. Graphviz Tool\n",
    "##### Installation\n",
    "Please download it here https://www.graphviz.org/download/    \n",
    "Please make sure that `bin` folder is in system environmental variable."
   ]
  },
  {
   "cell_type": "markdown",
   "metadata": {},
   "source": [
    "##### Usage\n",
    "Type the following command in command line to see the manual:      \n",
    "`dot --help`"
   ]
  },
  {
   "cell_type": "markdown",
   "metadata": {},
   "source": [
    "#### 3. Jupyter Notebook\n",
    "##### Installation"
   ]
  },
  {
   "cell_type": "code",
   "execution_count": null,
   "metadata": {},
   "outputs": [],
   "source": [
    "%pip install jupyter"
   ]
  },
  {
   "cell_type": "markdown",
   "metadata": {},
   "source": [
    "##### Usage\n",
    "Navigate to the working directory, run the following command:   \n",
    "`jupyter notebook`"
   ]
  },
  {
   "cell_type": "markdown",
   "metadata": {},
   "source": [
    "#### 4. graphviz Python"
   ]
  },
  {
   "cell_type": "code",
   "execution_count": null,
   "metadata": {},
   "outputs": [],
   "source": [
    "%pip install graphviz"
   ]
  },
  {
   "cell_type": "markdown",
   "metadata": {},
   "source": [
    "##### Usage\n",
    "Add the following line at the beginning of the code:   \n",
    "`import graphviz`"
   ]
  },
  {
   "cell_type": "markdown",
   "metadata": {},
   "source": [
    "#### 5. nltk"
   ]
  },
  {
   "cell_type": "code",
   "execution_count": null,
   "metadata": {},
   "outputs": [],
   "source": [
    "%pip install nltk"
   ]
  },
  {
   "cell_type": "markdown",
   "metadata": {},
   "source": [
    "##### Usage\n",
    "Add the following line at the beginning of the code:   \n",
    "`import nltk`"
   ]
  },
  {
   "cell_type": "markdown",
   "metadata": {},
   "source": [
    "Part 1 - Finite State Machine\n",
    "---"
   ]
  },
  {
   "cell_type": "markdown",
   "metadata": {},
   "source": [
    "State Class\n",
    "---"
   ]
  },
  {
   "cell_type": "markdown",
   "metadata": {},
   "source": [
    "States are objects we defined to represent each node in the Finite State Machine. For a valid Finite State Machine, each state need to be initiazed as a object before using it."
   ]
  },
  {
   "cell_type": "markdown",
   "metadata": {},
   "source": [
    "|`Attributes`    |`Description`  |\n",
    "|:---------|--------|\n",
    "|`name:`  | `State name for each node in the machien` |\n",
    "|`ignore_invalid_triggers (bool): ` | `Rise error for invalid state` |"
   ]
  },
  {
   "cell_type": "markdown",
   "metadata": {},
   "source": [
    "|`Method Name`    |`Description`  |\n",
    "|:---------|--------|\n",
    "|`__init__` | `Initalize the State object` |\n",
    "|`value` | `Return the name of the state` |"
   ]
  },
  {
   "cell_type": "markdown",
   "metadata": {},
   "source": [
    "Transition Class\n",
    "---"
   ]
  },
  {
   "cell_type": "markdown",
   "metadata": {},
   "source": [
    "Transition represents the relationship between States objects. The way to initialize it is to use dictionary to parse a set of tranitions. "
   ]
  },
  {
   "cell_type": "markdown",
   "metadata": {},
   "source": [
    "|`Attributes`    |`Description`  |\n",
    "|:---------|--------|\n",
    "|`source:`  | `Source state of the transition.` |\n",
    "|`dest: ` | `Destination state of the transition.` |"
   ]
  },
  {
   "cell_type": "markdown",
   "metadata": {},
   "source": [
    "|`Method Name`    |`Description`  |\n",
    "|:---------|--------|\n",
    "|`__init__` | `Initalize the Transition object for the machine` |\n",
    "|`execute` | `Execute the transition` |\n",
    "|`_change_state` | `Make changes to the state including set and update the state` |"
   ]
  },
  {
   "cell_type": "markdown",
   "metadata": {},
   "source": [
    "Machine Class\n",
    "---"
   ]
  },
  {
   "cell_type": "markdown",
   "metadata": {},
   "source": [
    "Finite State Machine class is the central class that controls states, transitions and models. "
   ]
  },
  {
   "cell_type": "markdown",
   "metadata": {},
   "source": [
    "|`Attributes`    |`Description`  |\n",
    "|:---------|--------|\n",
    "|`states:`  | `List of states` |\n",
    "|`events: ` | `List of transitions` |\n",
    "|`model:  ` | `List of models for the machine` |\n",
    "|`inital: ` | `The inital state` |\n",
    "|`auto_transition: ` | `When true, it will automatically associate to the transitions and states` |"
   ]
  },
  {
   "cell_type": "markdown",
   "metadata": {},
   "source": [
    "|`Method Name`    |`Description`  |\n",
    "|:---------|--------|\n",
    "|`to_list`  | `A method that converts any type of object into list` |\n",
    "|`__init__` | `Initalize the finite state machine` |\n",
    "|`add_states` | `Create new state in the model` |\n",
    "|`set_states` | `Set to the given state` |\n",
    "|`is_states` | `Check whether the current state matches the input state` |\n",
    "|`get_states` | `Return the State with the input name` |\n",
    "|`add_model` | `Create new model in the machine` |\n",
    "|`add_transition` | `Create new transition in the model` |\n",
    "|`get_transitions` | `Return the transition with the input name` |\n",
    "|`add_transitions` | `Add several transitions` |"
   ]
  },
  {
   "cell_type": "markdown",
   "metadata": {},
   "source": [
    "Action Class\n",
    "---"
   ]
  },
  {
   "cell_type": "markdown",
   "metadata": {},
   "source": [
    "A class that manages a set of transitions assigned to the same trigger."
   ]
  },
  {
   "cell_type": "markdown",
   "metadata": {},
   "source": [
    "|`Attributes`    |`Description`  |\n",
    "|:---------|--------|\n",
    "|`name:`  | `Name of the trigger` |\n",
    "|`machine: ` | `The current Finite State Machine` |"
   ]
  },
  {
   "cell_type": "markdown",
   "metadata": {},
   "source": [
    "|`Method Name`    |`Description`  |\n",
    "|:---------|--------|\n",
    "|`__init__` | `Initalize the action class with parameters name and machine` |\n",
    "|`add_transition` | `Add a transition to the list of potential transitions` |\n",
    "|`trigger` | `Execute all transitions that match the current state,` |\n",
    "|`update` | `Updates the object with the passed state.` |"
   ]
  },
  {
   "cell_type": "markdown",
   "metadata": {},
   "source": [
    "Part 2 - ./animation/parse_tree.py\n",
    "---\n",
    "This file contains several helper class. In this file, we utilize textwrap and graphviz python packages."
   ]
  },
  {
   "cell_type": "markdown",
   "metadata": {},
   "source": [
    "### Node Class\n",
    "A class designed to represent each node in a parse tree."
   ]
  },
  {
   "cell_type": "markdown",
   "metadata": {},
   "source": [
    "|`Attributes`    |`Description`  |\n",
    "|:---------|--------|\n",
    "|`n:`  | `the unique ID of current node` |\n",
    "|`value: ` | `The label value of the node` |"
   ]
  },
  {
   "cell_type": "markdown",
   "metadata": {},
   "source": [
    "|`Method Name`    |`Description`  |\n",
    "|:---------|--------|\n",
    "|`__init__` | `Initalize the Node class` |\n",
    "|`__repr__` | `Return the string representation of the class` |"
   ]
  },
  {
   "cell_type": "markdown",
   "metadata": {},
   "source": [
    "### Graph Class\n",
    "A class designed to generate graphviz source code."
   ]
  },
  {
   "cell_type": "markdown",
   "metadata": {},
   "source": [
    "|`Attributes`    |`Description`  |\n",
    "|:---------|--------|\n",
    "|`tree:`  | `abstract syntax tree that is going to draw` |\n",
    "|`dot_header: ` | `header of the generated code` |\n",
    "|`dot_node: ` | `dot code which define the attribute of nodes` |\n",
    "|`dot_edge: ` | `dot code which define the attribute of edges` |\n",
    "|`dot_footer: ` | `footer of the generated DOT code` |\n",
    "|`n_count: ` | `an iterator to keep track of the ID` |"
   ]
  },
  {
   "cell_type": "markdown",
   "metadata": {},
   "source": [
    "|`Method Name`    |`Description`  |\n",
    "|:---------|--------|\n",
    "|`__init__` | `Initalize the Graph class` |\n",
    "|`re_node` | `By using depth first search, visit each node and replace it with a Node class and add corresponding node in dot_node` |\n",
    "|`dfs` | `By using depth first search, visit each edge and add corresponding edge in dot_edge` |\n",
    "|`draw` | `return the generated DOT code` |"
   ]
  },
  {
   "cell_type": "markdown",
   "metadata": {},
   "source": [
    "Part 3 - ./animation/fsm_animation.ipynb\n",
    "---\n",
    "This file contains the animation of execution of FSM. Specification of FSM machine can be found in Part 1. In this notebook, we utilize ipywidgets, graphviz tool and graphviz python package."
   ]
  },
  {
   "cell_type": "markdown",
   "metadata": {},
   "source": [
    "### FSMGraph Class\n",
    "A class designed to display the animation graph in interactive method."
   ]
  },
  {
   "cell_type": "markdown",
   "metadata": {},
   "source": [
    "|`Attributes`    |`Description`  |\n",
    "|:---------|--------|\n",
    "|`states:`  | `all the sates in the FSM` |\n",
    "|`finals: ` | `all the final states in the FSM` |\n",
    "|`transitions: ` | `all the transitions in the FSM` |\n",
    "|`check_str: ` | `the string that enters FSM` |\n",
    "|`model: ` | `the model used for FSM` |\n",
    "|`machine: ` | `Fsm class object` |"
   ]
  },
  {
   "cell_type": "markdown",
   "metadata": {},
   "source": [
    "|`Method Name`    |`Description`  |\n",
    "|:---------|--------|\n",
    "|`__init__` | `Initalize the FSMGraph class` |\n",
    "|`draw` | `return the Digraph class which contains the diagram of FSM` |\n",
    "|`gen_img` | `generate a list of stage images` |\n",
    "|`func` | `display images with given index` |\n",
    "|`display` | `display interactie slide bar and stage images` |"
   ]
  },
  {
   "cell_type": "markdown",
   "metadata": {},
   "source": [
    "### TEST CASE 0 - Error Test Case\n",
    "### Test the error input\n",
    "Input\n",
    "```\n",
    "states = ['0', '1', 'f']\n",
    "finals = ['f']\n",
    "transitions = [\n",
    "    { 'trigger': 'a', 'source': '0', 'dest': '1' },\n",
    "    { 'trigger': 'b', 'source': '1', 'dest': 'f' },]\n",
    "#Check if the FSM accept string 'ac'\n",
    "check_str = 'ac'\n",
    "```\n",
    "### Output : This is a error output because the Finite State Machine cannot accept"
   ]
  },
  {
   "cell_type": "markdown",
   "metadata": {},
   "source": [
    "### TEST CASE 1\n",
    "#### Test the simple usage of the prorgam\n",
    "##### Input\n",
    "```\n",
    "states = {0, 1, f}   \n",
    "finals = {f}   \n",
    "transitions = {   \n",
    "0 a -> 1\n",
    "1 c -> f\n",
    "1 b -> 1\n",
    "0 c -> f\n",
    "}\n",
    "check_str = \"abc\"\n",
    "```\n",
    "##### Output (This is the slide show of each stage imgaes)\n",
    "<img src=\"gif/fsm_1.gif\" />"
   ]
  },
  {
   "cell_type": "markdown",
   "metadata": {},
   "source": [
    "### TEST CASE 2\n",
    "#### Test the complex usage of the prorgam\n",
    "##### Input\n",
    "```\n",
    "states = {0, 1, f}   \n",
    "finals = {f}   \n",
    "transitions = {   \n",
    "0 a -> 1\n",
    "1 c -> f\n",
    "1 b -> 1\n",
    "0 c -> f\n",
    "}\n",
    "check_str = \"abbbbbbc\"\n",
    "```\n",
    "##### Output (This is the slide show of each stage imgaes)\n",
    "<img src=\"gif/fsm_2.gif\" />"
   ]
  },
  {
   "cell_type": "markdown",
   "metadata": {},
   "source": [
    "### TEST CASE 3\n",
    "#### Test more complex usage of the prorgam\n",
    "##### Input\n",
    "```\n",
    "states = {0, 1, 2, 3, 4, 5}   \n",
    "finals = {1, 3, 5}   \n",
    "transitions = {   \n",
    "0 a -> 1\n",
    "1 b -> 2\n",
    "1 c -> 3\n",
    "0 d -> 4\n",
    "4 e -> 5\n",
    "2 f -> 5\n",
    "}\n",
    "check_str = \"abf\"\n",
    "```\n",
    "##### Output (This is the slide show of each stage imgaes)\n",
    "<img src=\"gif/fsm_3.gif\" />"
   ]
  },
  {
   "cell_type": "markdown",
   "metadata": {},
   "source": [
    "### TEST CASE 4\n",
    "#### Test error message with an unaccepted string\n",
    "##### Input\n",
    "```\n",
    "states = {0, 1, 2, 3, 4, 5}   \n",
    "finals = {1, 3, 5}   \n",
    "transitions = {   \n",
    "0 a -> 1\n",
    "1 b -> 2\n",
    "1 c -> 3\n",
    "0 d -> 4\n",
    "4 e -> 5\n",
    "2 f -> 5\n",
    "}\n",
    "check_str = \"ab\"\n",
    "```\n",
    "##### Output (This is the slide show of each stage imgaes)\n",
    "Given String does not reach the final states!   \n",
    "<img src=\"gif/fsm_4.gif\" />"
   ]
  },
  {
   "cell_type": "markdown",
   "metadata": {},
   "source": [
    "### TEST CASE 5\n",
    "#### Test error message with an unaccepted string\n",
    "##### Input\n",
    "```\n",
    "states = {0, 1, f}   \n",
    "finals = {f}   \n",
    "transitions = {   \n",
    "0 a -> 1\n",
    "1 c -> f\n",
    "1 b -> 1\n",
    "0 c -> f\n",
    "}\n",
    "check_str = \"ca\"\n",
    "```\n",
    "##### Output (This is the slide show of each stage imgaes)\n",
    "ERROR: FSM cannot accept the string   \n",
    "<img src=\"gif/fsm_5.gif\" />"
   ]
  },
  {
   "cell_type": "markdown",
   "metadata": {},
   "source": [
    "Part 4 - ./animation/parse_tree_animation.ipynb\n",
    "---\n",
    "This file contains the animation of parse tree. In this notebook, we utilize ipywidgets, graphviz tool, graphviz python package, nltk python package and parse_tree.py"
   ]
  },
  {
   "cell_type": "markdown",
   "metadata": {},
   "source": [
    "### PTGraph Class\n",
    "A class designed to display the animation graph in interactive method."
   ]
  },
  {
   "cell_type": "markdown",
   "metadata": {},
   "source": [
    "|`Attributes`    |`Description`  |\n",
    "|:---------|--------|\n",
    "|`graph:`  | `Graph class object from parse_tree.py` |"
   ]
  },
  {
   "cell_type": "markdown",
   "metadata": {},
   "source": [
    "|`Method Name`    |`Description`  |\n",
    "|:---------|--------|\n",
    "|`__init__` | `Initalize the PTGraph class` |\n",
    "|`gen_img` | `generate a list of stage images` |\n",
    "|`func` | `display images with given index` |\n",
    "|`display` | `display interactie slide bar and stage images` |"
   ]
  },
  {
   "cell_type": "markdown",
   "metadata": {},
   "source": [
    "### TEST CASE 0 - Error Test Case\n",
    "### Test the error input\n",
    "Input\n",
    "```\n",
    "grammar1 = nltk.CFG.fromstring(\"\"\"\n",
    "S -> NP VP\n",
    "PP -> P NP\n",
    "NP -> N | Det N\n",
    "VP -> V NP | VP PP | AVP NP\n",
    "AVP -> AV V\n",
    "AV -> 'will'\n",
    "Det -> 'the'\n",
    "N -> 'fine' | 'end' | 'Everything'\n",
    "V -> 'be'\n",
    "P -> 'in'\n",
    "\"\"\")\n",
    "parser1 = nltk.ChartParser(grammar1)\n",
    "\n",
    "sentence1 = ['will','be','fine']\n",
    "```\n",
    "### Output : This is a error output because the grammar requires it to have a NP in the first word, but the input sentence does not satisfy the grammar"
   ]
  },
  {
   "cell_type": "markdown",
   "metadata": {},
   "source": [
    "### TEST CASE 1\n",
    "#### Test simple usage\n",
    "##### Input\n",
    "```\n",
    "grammar = {   \n",
    "S -> NP VP\n",
    "PP -> P NP\n",
    "NP -> N | Det N\n",
    "VP -> V NP | VP PP | AVP NP\n",
    "AVP -> AV V\n",
    "AV -> 'will'\n",
    "Det -> 'the'\n",
    "N -> 'fine' | 'end' | 'Everything'\n",
    "V -> 'be'\n",
    "P -> 'in'\n",
    "}\n",
    "sentence = \"Everthing will be fine\"\n",
    "```\n",
    "##### Output (This is the slide show of each stage imgaes)\n",
    "<img src=\"gif/pt_1.gif\" />"
   ]
  },
  {
   "cell_type": "markdown",
   "metadata": {},
   "source": [
    "### TEST CASE 2\n",
    "#### Test complex usage\n",
    "##### Input\n",
    "```\n",
    "grammar = {   \n",
    "S -> NP VP\n",
    "PP -> P NP\n",
    "NP -> N | Det N\n",
    "VP -> V NP | VP PP | AVP NP\n",
    "AVP -> AV V\n",
    "AV -> 'will'\n",
    "Det -> 'the'\n",
    "N -> 'fine' | 'end' | 'Everything'\n",
    "V -> 'be'\n",
    "P -> 'in'\n",
    "}\n",
    "sentence = \"Everthing will be fine in the end\"\n",
    "```\n",
    "##### Output (This is the slide show of each stage imgaes)\n",
    "<img src=\"gif/pt_2.gif\" />"
   ]
  },
  {
   "cell_type": "markdown",
   "metadata": {},
   "source": [
    "### TEST CASE 3\n",
    "#### Test simple usage, ambiguous parse tree #1\n",
    "##### Input\n",
    "```\n",
    "grammar = {   \n",
    "S -> 'a' S 'b' S | 'b' S 'a' S |\n",
    "}\n",
    "sentence = \"abab\"\n",
    "```\n",
    "##### Output (This is the slide show of each stage imgaes)\n",
    "<img src=\"gif/pt_3.gif\" />"
   ]
  },
  {
   "cell_type": "markdown",
   "metadata": {},
   "source": [
    "### TEST CASE 4\n",
    "#### Test simple usage, ambiguous parse tree #2\n",
    "##### Input\n",
    "```\n",
    "grammar = {   \n",
    "S -> 'a' S 'b' S | 'b' S 'a' S |\n",
    "}\n",
    "sentence = \"abab\"\n",
    "```\n",
    "##### Output (This is the slide show of each stage imgaes)\n",
    "<img src=\"gif/pt_4.gif\" />"
   ]
  },
  {
   "cell_type": "markdown",
   "metadata": {},
   "source": [
    "### TEST CASE 5\n",
    "#### Test complex usage\n",
    "##### Input\n",
    "```\n",
    "grammar = {   \n",
    "E -> T | E O T\n",
    "T -> F | T '*' F\n",
    "F -> 'id' | '(' E ')'\n",
    "O -> '+'\n",
    "}\n",
    "sentence = \"id*(id+id)\"\n",
    "```\n",
    "##### Output (This is the slide show of each stage imgaes)\n",
    "<img src=\"gif/pt_5.gif\" />"
   ]
  },
  {
   "cell_type": "markdown",
   "metadata": {},
   "source": [
    "Part 5 - ./animation/earley_parser_animation.ipynb\n",
    "---\n",
    "This file contains the animation of earley parser algorithm. In this notebook, the python code of algorithm is modified from Lecture notes 11. Besides that, we utilize ipywidgets package."
   ]
  },
  {
   "cell_type": "markdown",
   "metadata": {},
   "source": [
    "### Expr Class\n",
    "A class designed to store the value of each expression."
   ]
  },
  {
   "cell_type": "markdown",
   "metadata": {},
   "source": [
    "|`Attributes`    |`Description`  |\n",
    "|:---------|--------|\n",
    "|`i:`  | `the indicies of s` |\n",
    "|`a: ` | `A in (A → σ • τ, j)` |\n",
    "|`method: ` | `indicates attribute of current stage: Predict, Complete or Match` |\n",
    "|`tau: ` | `τ in (A → σ • τ, j)` |\n",
    "|`j: ` | `j in (A → σ • τ, j)` |\n",
    "|`sigma: ` | `σ in (A → σ • τ, j)` |"
   ]
  },
  {
   "cell_type": "markdown",
   "metadata": {},
   "source": [
    "|`Method Name`    |`Description`  |\n",
    "|:---------|--------|\n",
    "|`__init__` | `Initalize the Expr class` |\n",
    "|`__str__` | `return the string representation of the class` |"
   ]
  },
  {
   "cell_type": "markdown",
   "metadata": {},
   "source": [
    "### Modification version of earley's parser from Lecture notes 11\n",
    "In order to return string representation of a parse tree in certain form, we modify the function `parse()` from Lecutre Notes 11. In this representation, each brackets represents a leaf or tree.\n",
    "\n",
    "#### More specifically:   \n",
    "In Match step, instead of adding `(A → σ a • ω, j)`, we add `(A → σ (a) • ω, j)`   \n",
    "In Complete step, instead of adding `(B → μ A • ξ, k)`, we add `(B → μ (Aσ) • ξ, k)`"
   ]
  },
  {
   "cell_type": "markdown",
   "metadata": {},
   "source": [
    "### Animate Class\n",
    "A class designed to animate the given graph data."
   ]
  },
  {
   "cell_type": "markdown",
   "metadata": {},
   "source": [
    "|`Attributes`    |`Description`  |\n",
    "|:---------|--------|\n",
    "|`graph_data:`  | `the list of data generated for the purpose of animation` |\n",
    "|`i: ` | `an iterator to keep track if the index of graph_data` |\n",
    "|`auto_generate: ` | `determine the method of animation generator` |\n",
    "|`btn: ` | `define a clickable button widgets` |"
   ]
  },
  {
   "cell_type": "markdown",
   "metadata": {},
   "source": [
    "|`Method Name`    |`Description`  |\n",
    "|:---------|--------|\n",
    "|`__init__` | `Initalize the Animate class` |\n",
    "|`parse` | `modified earley's parser from Lecture notes 11` |\n",
    "|`gen_img` | `generate a list of images where contains stage information` |\n",
    "|`func` | `display graph_data at index self.i, and then increment i` |\n",
    "|`display` | `display the animation` |"
   ]
  },
  {
   "cell_type": "markdown",
   "metadata": {},
   "source": [
    "### TEST CASE 0 - Error Test Case\n",
    "### Test the error input\n",
    "##### Input\n",
    "```\n",
    "grammar = {   \n",
    "S→E\n",
    "E→a\n",
    "E→a+E\n",
    "}\n",
    "sentence = \"a+a+\"\n",
    "```\n",
    "### Output : Cannot parse this sentence!"
   ]
  },
  {
   "cell_type": "markdown",
   "metadata": {},
   "source": [
    "### TEST CASE 1\n",
    "#### Test simple usage, auto generate each stage output\n",
    "##### Input\n",
    "```\n",
    "grammar = {   \n",
    "S→E\n",
    "E→a\n",
    "E→a+E\n",
    "}\n",
    "sentence = \"a+a+a\"\n",
    "```\n",
    "##### Text Output\n",
    "```\n",
    "Predict \n",
    "  s[ 0 ]: E →  • a , 0\n",
    "Predict \n",
    "  s[ 0 ]: E →  • a+E , 0\n",
    "Match \n",
    "  s[ 1 ]: E → (a) • +E , 0\n",
    "Match \n",
    "  s[ 1 ]: E → (a) •  , 0\n",
    "Match \n",
    "  s[ 2 ]: E → (a)(+) • E , 0\n",
    "Complete \n",
    "  s[ 1 ]: S → (E(a)) •  , 0\n",
    "Predict \n",
    "  s[ 2 ]: E →  • a , 2\n",
    "Predict \n",
    "  s[ 2 ]: E →  • a+E , 2\n",
    "Match \n",
    "  s[ 3 ]: E → (a) •  , 2\n",
    "Match \n",
    "  s[ 3 ]: E → (a) • +E , 2\n",
    "Match \n",
    "  s[ 4 ]: E → (a)(+) • E , 2\n",
    "Complete \n",
    "  s[ 3 ]: E → (a)(+)(E(a)) •  , 0\n",
    "Complete \n",
    "  s[ 3 ]: S → (E(a)(+)(E(a))) •  , 0\n",
    "Predict \n",
    "  s[ 4 ]: E →  • a , 4\n",
    "Predict \n",
    "  s[ 4 ]: E →  • a+E , 4\n",
    "Match \n",
    "  s[ 5 ]: E → (a) • +E , 4\n",
    "Match \n",
    "  s[ 5 ]: E → (a) •  , 4\n",
    "Complete \n",
    "  s[ 5 ]: E → (a)(+)(E(a)) •  , 2\n",
    "Complete \n",
    "  s[ 5 ]: E → (a)(+)(E(a)(+)(E(a))) •  , 0\n",
    "Complete \n",
    "  s[ 5 ]: S → (E(a)(+)(E(a)(+)(E(a)))) •  , 0\n",
    "```\n",
    "##### Image Output (This is the slide show of each stage imgaes)\n",
    "<img src=\"gif/earley_1.gif\" />"
   ]
  },
  {
   "cell_type": "markdown",
   "metadata": {},
   "source": [
    "### TEST CASE 2\n",
    "#### Test simple usage, each stage output is available upon a clickable button\n",
    "##### Input\n",
    "```\n",
    "grammar = {   \n",
    "S→E\n",
    "E→a\n",
    "E→a+E\n",
    "}\n",
    "sentence = \"a+a\"\n",
    "```\n",
    "##### Text Output\n",
    "```\n",
    "Predict \n",
    "  s[ 0 ]: E →  • a , 0\n",
    "Predict \n",
    "  s[ 0 ]: E →  • a+E , 0\n",
    "Match \n",
    "  s[ 1 ]: E → (a) • +E , 0\n",
    "Match \n",
    "  s[ 1 ]: E → (a) •  , 0\n",
    "Match \n",
    "  s[ 2 ]: E → (a)(+) • E , 0\n",
    "Complete \n",
    "  s[ 1 ]: S → (E(a)) •  , 0\n",
    "Predict \n",
    "  s[ 2 ]: E →  • a , 2\n",
    "Predict \n",
    "  s[ 2 ]: E →  • a+E , 2\n",
    "Match \n",
    "  s[ 3 ]: E → (a) •  , 2\n",
    "Match \n",
    "  s[ 3 ]: E → (a) • +E , 2\n",
    "Complete \n",
    "  s[ 3 ]: E → (a)(+)(E(a)) •  , 0\n",
    "Complete \n",
    "  s[ 3 ]: S → (E(a)(+)(E(a))) •  , 0\n",
    "```\n",
    "##### Image Output (This is the slide show of each stage imgaes)\n",
    "<img src=\"gif/earley_2.gif\" />"
   ]
  },
  {
   "cell_type": "markdown",
   "metadata": {},
   "source": [
    "### TEST CASE 3\n",
    "#### Test complex usage, auto generate each stage output\n",
    "##### Input\n",
    "```\n",
    "grammar = {   \n",
    "S→E\n",
    "E→a\n",
    "E→E+E\n",
    "}\n",
    "sentence = \"a+a+a\"\n",
    "```\n",
    "##### Text Output\n",
    "```\n",
    "Predict \n",
    "  s[ 0 ]: E →  • a , 0\n",
    "Predict \n",
    "  s[ 0 ]: E →  • E+E , 0\n",
    "Match \n",
    "  s[ 1 ]: E → (a) •  , 0\n",
    "Predict \n",
    "  s[ 0 ]: E →  • a , 0\n",
    "Predict \n",
    "  s[ 0 ]: E →  • E+E , 0\n",
    "Complete \n",
    "  s[ 1 ]: E → (E(a)) • +E , 0\n",
    "Complete \n",
    "  s[ 1 ]: S → (E(a)) •  , 0\n",
    "Match \n",
    "  s[ 2 ]: E → (E(a))(+) • E , 0\n",
    "Predict \n",
    "  s[ 2 ]: E →  • a , 2\n",
    "Predict \n",
    "  s[ 2 ]: E →  • E+E , 2\n",
    "Match \n",
    "  s[ 3 ]: E → (a) •  , 2\n",
    "Predict \n",
    "  s[ 2 ]: E →  • a , 2\n",
    "Predict \n",
    "  s[ 2 ]: E →  • E+E , 2\n",
    "Complete \n",
    "  s[ 3 ]: E → (E(a))(+)(E(a)) •  , 0\n",
    "Complete \n",
    "  s[ 3 ]: E → (E(a)) • +E , 2\n",
    "Complete \n",
    "  s[ 3 ]: E → (E(E(a))(+)(E(a))) • +E , 0\n",
    "Complete \n",
    "  s[ 3 ]: S → (E(E(a))(+)(E(a))) •  , 0\n",
    "Match \n",
    "  s[ 4 ]: E → (E(a))(+) • E , 2\n",
    "Match \n",
    "  s[ 4 ]: E → (E(E(a))(+)(E(a)))(+) • E , 0\n",
    "Predict \n",
    "  s[ 4 ]: E →  • a , 4\n",
    "Predict \n",
    "  s[ 4 ]: E →  • E+E , 4\n",
    "Match \n",
    "  s[ 5 ]: E → (a) •  , 4\n",
    "Predict \n",
    "  s[ 4 ]: E →  • a , 4\n",
    "Predict \n",
    "  s[ 4 ]: E →  • E+E , 4\n",
    "Predict \n",
    "  s[ 4 ]: E →  • a , 4\n",
    "Predict \n",
    "  s[ 4 ]: E →  • E+E , 4\n",
    "Complete \n",
    "  s[ 5 ]: E → (E(a))(+)(E(a)) •  , 2\n",
    "Complete \n",
    "  s[ 5 ]: E → (E(a)) • +E , 4\n",
    "Complete \n",
    "  s[ 5 ]: E → (E(E(a))(+)(E(a)))(+)(E(a)) •  , 0\n",
    "Complete \n",
    "  s[ 5 ]: E → (E(a))(+)(E(E(a))(+)(E(a))) •  , 0\n",
    "Complete \n",
    "  s[ 5 ]: E → (E(E(a))(+)(E(a))) • +E , 2\n",
    "Complete \n",
    "  s[ 5 ]: E → (E(E(a))(+)(E(E(a))(+)(E(a)))) • +E , 0\n",
    "Complete \n",
    "  s[ 5 ]: S → (E(E(a))(+)(E(E(a))(+)(E(a)))) •  , 0\n",
    "Complete \n",
    "  s[ 5 ]: E → (E(E(E(a))(+)(E(a)))(+)(E(a))) • +E , 0\n",
    "Complete \n",
    "  s[ 5 ]: S → (E(E(E(a))(+)(E(a)))(+)(E(a))) •  , 0\n",
    "```\n",
    "##### Image Output (This is the slide show of each stage imgaes)\n",
    "<img src=\"gif/earley_3.gif\" />"
   ]
  },
  {
   "cell_type": "markdown",
   "metadata": {},
   "source": [
    "### TEST CASE 4\n",
    "#### Test complex usage, auto generate each stage output\n",
    "##### Input\n",
    "```\n",
    "grammar = {   \n",
    "S→E\n",
    "E→T\n",
    "E→E+T\n",
    "T→F\n",
    "T→T×F\n",
    "F→a\n",
    "}\n",
    "sentence = \"a+a×a\"\n",
    "```\n",
    "##### Text Output\n",
    "```\n",
    "Predict \n",
    "  s[ 0 ]: E →  • T , 0\n",
    "Predict \n",
    "  s[ 0 ]: E →  • E+T , 0\n",
    "Predict \n",
    "  s[ 0 ]: E →  • T , 0\n",
    "Predict \n",
    "  s[ 0 ]: E →  • E+T , 0\n",
    "Predict \n",
    "  s[ 0 ]: T →  • F , 0\n",
    "Predict \n",
    "  s[ 0 ]: T →  • T×F , 0\n",
    "Predict \n",
    "  s[ 0 ]: T →  • F , 0\n",
    "Predict \n",
    "  s[ 0 ]: T →  • T×F , 0\n",
    "Predict \n",
    "  s[ 0 ]: F →  • a , 0\n",
    "Match \n",
    "  s[ 1 ]: F → (a) •  , 0\n",
    "Complete \n",
    "  s[ 1 ]: T → (F(a)) •  , 0\n",
    "Complete \n",
    "  s[ 1 ]: T → (T(F(a))) • ×F , 0\n",
    "Complete \n",
    "  s[ 1 ]: E → (T(F(a))) •  , 0\n",
    "Complete \n",
    "  s[ 1 ]: E → (E(T(F(a)))) • +T , 0\n",
    "Complete \n",
    "  s[ 1 ]: S → (E(T(F(a)))) •  , 0\n",
    "Match \n",
    "  s[ 2 ]: E → (E(T(F(a))))(+) • T , 0\n",
    "Predict \n",
    "  s[ 2 ]: T →  • F , 2\n",
    "Predict \n",
    "  s[ 2 ]: T →  • T×F , 2\n",
    "Predict \n",
    "  s[ 2 ]: T →  • F , 2\n",
    "Predict \n",
    "  s[ 2 ]: T →  • T×F , 2\n",
    "Predict \n",
    "  s[ 2 ]: F →  • a , 2\n",
    "Match \n",
    "  s[ 3 ]: F → (a) •  , 2\n",
    "Complete \n",
    "  s[ 3 ]: T → (F(a)) •  , 2\n",
    "Complete \n",
    "  s[ 3 ]: T → (T(F(a))) • ×F , 2\n",
    "Complete \n",
    "  s[ 3 ]: E → (E(T(F(a))))(+)(T(F(a))) •  , 0\n",
    "Match \n",
    "  s[ 4 ]: T → (T(F(a)))(×) • F , 2\n",
    "Complete \n",
    "  s[ 3 ]: E → (E(E(T(F(a))))(+)(T(F(a)))) • +T , 0\n",
    "Complete \n",
    "  s[ 3 ]: S → (E(E(T(F(a))))(+)(T(F(a)))) •  , 0\n",
    "Predict \n",
    "  s[ 4 ]: F →  • a , 4\n",
    "Match \n",
    "  s[ 5 ]: F → (a) •  , 4\n",
    "Complete \n",
    "  s[ 5 ]: T → (T(F(a)))(×)(F(a)) •  , 2\n",
    "Complete \n",
    "  s[ 5 ]: T → (T(T(F(a)))(×)(F(a))) • ×F , 2\n",
    "Complete \n",
    "  s[ 5 ]: E → (E(T(F(a))))(+)(T(T(F(a)))(×)(F(a))) •  , 0\n",
    "Complete \n",
    "  s[ 5 ]: E → (E(E(T(F(a))))(+)(T(T(F(a)))(×)(F(a)))) • +T , 0\n",
    "Complete \n",
    "  s[ 5 ]: S → (E(E(T(F(a))))(+)(T(T(F(a)))(×)(F(a)))) •  , 0\n",
    "```\n",
    "##### Image Output (This is the slide show of each stage imgaes)\n",
    "<img src=\"gif/earley_4.gif\" />"
   ]
  },
  {
   "cell_type": "markdown",
   "metadata": {},
   "source": [
    "### TEST CASE 5\n",
    "#### Test complex usage, auto generate each stage output\n",
    "##### Input\n",
    "```\n",
    "grammar = {   \n",
    "S→E\n",
    "E→F\n",
    "E→E+F\n",
    "E→E-F\n",
    "F→a\n",
    "}\n",
    "sentence = \"a-a+a\"\n",
    "```\n",
    "##### Text Output\n",
    "```\n",
    "Predict \n",
    "  s[ 0 ]: E →  • F , 0\n",
    "Predict \n",
    "  s[ 0 ]: E →  • E+F , 0\n",
    "Predict \n",
    "  s[ 0 ]: E →  • E-F , 0\n",
    "Predict \n",
    "  s[ 0 ]: E →  • F , 0\n",
    "Predict \n",
    "  s[ 0 ]: E →  • E+F , 0\n",
    "Predict \n",
    "  s[ 0 ]: E →  • E-F , 0\n",
    "Predict \n",
    "  s[ 0 ]: E →  • F , 0\n",
    "Predict \n",
    "  s[ 0 ]: E →  • E+F , 0\n",
    "Predict \n",
    "  s[ 0 ]: E →  • E-F , 0\n",
    "Predict \n",
    "  s[ 0 ]: F →  • a , 0\n",
    "Match \n",
    "  s[ 1 ]: F → (a) •  , 0\n",
    "Complete \n",
    "  s[ 1 ]: E → (F(a)) •  , 0\n",
    "Complete \n",
    "  s[ 1 ]: E → (E(F(a))) • +F , 0\n",
    "Complete \n",
    "  s[ 1 ]: S → (E(F(a))) •  , 0\n",
    "Complete \n",
    "  s[ 1 ]: E → (E(F(a))) • -F , 0\n",
    "Match \n",
    "  s[ 2 ]: E → (E(F(a)))(-) • F , 0\n",
    "Predict \n",
    "  s[ 2 ]: F →  • a , 2\n",
    "Match \n",
    "  s[ 3 ]: F → (a) •  , 2\n",
    "Complete \n",
    "  s[ 3 ]: E → (E(F(a)))(-)(F(a)) •  , 0\n",
    "Complete \n",
    "  s[ 3 ]: E → (E(E(F(a)))(-)(F(a))) • +F , 0\n",
    "Complete \n",
    "  s[ 3 ]: S → (E(E(F(a)))(-)(F(a))) •  , 0\n",
    "Complete \n",
    "  s[ 3 ]: E → (E(E(F(a)))(-)(F(a))) • -F , 0\n",
    "Match \n",
    "  s[ 4 ]: E → (E(E(F(a)))(-)(F(a)))(+) • F , 0\n",
    "Predict \n",
    "  s[ 4 ]: F →  • a , 4\n",
    "Match \n",
    "  s[ 5 ]: F → (a) •  , 4\n",
    "Complete \n",
    "  s[ 5 ]: E → (E(E(F(a)))(-)(F(a)))(+)(F(a)) •  , 0\n",
    "Complete \n",
    "  s[ 5 ]: E → (E(E(E(F(a)))(-)(F(a)))(+)(F(a))) • +F , 0\n",
    "Complete \n",
    "  s[ 5 ]: S → (E(E(E(F(a)))(-)(F(a)))(+)(F(a))) •  , 0\n",
    "Complete \n",
    "  s[ 5 ]: E → (E(E(E(F(a)))(-)(F(a)))(+)(F(a))) • -F , 0\n",
    "```\n",
    "##### Image Output (This is the slide show of each stage imgaes)\n",
    "<img src=\"gif/earley_5.gif\" />"
   ]
  },
  {
   "cell_type": "code",
   "execution_count": null,
   "metadata": {},
   "outputs": [],
   "source": []
  }
 ],
 "metadata": {
  "kernelspec": {
   "display_name": "Python 3",
   "language": "python",
   "name": "python3"
  },
  "language_info": {
   "codemirror_mode": {
    "name": "ipython",
    "version": 3
   },
   "file_extension": ".py",
   "mimetype": "text/x-python",
   "name": "python",
   "nbconvert_exporter": "python",
   "pygments_lexer": "ipython3",
   "version": "3.8.1"
  }
 },
 "nbformat": 4,
 "nbformat_minor": 2
}
