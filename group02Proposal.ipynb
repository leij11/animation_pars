{
 "cells": [
  {
   "cell_type": "markdown",
   "metadata": {},
   "source": [
    "# CS4TB3 Project Proposal\n",
    "By group02 (Jessica Lei, Mingnan Su)"
   ]
  },
  {
   "cell_type": "markdown",
   "metadata": {},
   "source": [
    "Overview\n",
    "---\n",
    "Our task for this project is to take a step further with Jupyter Notebook’s given functionalities by providing users with the ability to animate the execution of FSM. We will be implementing animations using the python library of turtle.\n",
    "\n",
    "Firstly, let the user provide FSM as input, import the Turtle package and then draw the FSM diagram. Next, ask the user to provide input in the format of string, e.g.\"abc\". We put the given input into FSM and decide whether it fits FSM. If it fits, we execute the input in FSM and animate the execution of FSM by coloring the different components of the diagram.\n",
    "\n",
    "Furthermore, we could also provide the visualization of the algorithm for making FSM deterministic and equivalence."
   ]
  },
  {
   "cell_type": "markdown",
   "metadata": {},
   "source": [
    "Implementation\n",
    "--"
   ]
  },
  {
   "cell_type": "markdown",
   "metadata": {},
   "source": [
    "Firstly, user will provide the FSM in a format of string. \n",
    "```\n",
    "first line: initial state\n",
    "second line: {final states}\n",
    "all subsequent lines: \"source symbol -> target\"\n",
    "```"
   ]
  },
  {
   "cell_type": "code",
   "execution_count": 29,
   "metadata": {},
   "outputs": [],
   "source": [
    "user_FSM = \"\"\"\n",
    "0\n",
    "f\n",
    "0 a → 1\n",
    "1 b → 1\n",
    "1 c → f\n",
    "0 c → f\n",
    "\"\"\""
   ]
  },
  {
   "cell_type": "markdown",
   "metadata": {},
   "source": [
    "Then the program will parse the string and store the value in class `FiniteStateMachine`."
   ]
  },
  {
   "cell_type": "code",
   "execution_count": 34,
   "metadata": {},
   "outputs": [],
   "source": [
    "class FiniteStateMachine:\n",
    "    def __init__(self, T, Q, R, q0, F):\n",
    "        self.T, self.Q, self.R, self.q0, self.F = T, Q, R, q0, F\n",
    "    def __repr__(self):\n",
    "        return str(self.q0) + '\\n' + ' '.join(self.F) + '\\n' + \\\n",
    "               '\\n'.join(r[0] + ' ' + r[1] + ' → ' + r[2] for r in self.R)\n",
    "\n",
    "def parseFSM(fsm: str) -> FiniteStateMachine:\n",
    "    fsm = [line for line in fsm.split('\\n') if line.strip() != '']\n",
    "    q0 = fsm[0].split()[0] # first line: initialstate\n",
    "    F = set(fsm[1].split()) # second line: finalstate, finalstate, ...\n",
    "    R = set()\n",
    "    for line in fsm[2:]: # all subsequent lines: \"source symbol → target\"\n",
    "        l, r = line.split('→')\n",
    "        R |= {(l.split()[0], l.split()[1], r.split()[0])}\n",
    "    T = {r[1] for r in R}\n",
    "    Q = {q0} | F | {r[0] for r in R} | {r[2] for r in R}\n",
    "    return FiniteStateMachine(T, Q, R, q0, F)\n",
    "\n",
    "def accepts(fsm: FiniteStateMachine, tau: str) -> bool:\n",
    "    nxt = {(q, a): r for (q, a, r) in fsm.R}\n",
    "    q = fsm.q0\n",
    "    for t in tau:\n",
    "        if (q, t) in nxt: \n",
    "            print(q,t)\n",
    "            q = nxt[q, t]\n",
    "        else: \n",
    "            return False\n",
    "    return q in fsm.F"
   ]
  },
  {
   "cell_type": "code",
   "execution_count": 35,
   "metadata": {
    "scrolled": false
   },
   "outputs": [
    {
     "name": "stdout",
     "output_type": "stream",
     "text": [
      "0\n",
      "{('0', 'c', 'f'), ('0', 'a', '1'), ('1', 'b', '1'), ('1', 'c', 'f')}\n",
      "{'f'}\n",
      "0 a\n",
      "1 b\n",
      "1 c\n",
      "True\n"
     ]
    }
   ],
   "source": [
    "A0 = parseFSM(user_FSM)\n",
    "print(A0.q0)\n",
    "print(A0.R)\n",
    "print(A0.F)\n",
    "print(accepts(A0, 'abc'))"
   ]
  },
  {
   "cell_type": "markdown",
   "metadata": {},
   "source": [
    "In order to build from Jupyter notebook, we require the following configurations:\n",
    "1. pip install ipyturtle\n",
    "2. jupyter nbextension enable --py --sys-prefix ipyturtle\n",
    "3. pip install numpy"
   ]
  },
  {
   "cell_type": "markdown",
   "metadata": {},
   "source": [
    "Furthermore, user also required set the certain parameters in order to generate a good-looking diagram. For each transition, user need to define which way the arrow will point to, as well as the special arrow such as the loop transition.  \n",
    "\n",
    "transition diagram syntax could be written as:\n",
    "```\n",
    "from [start] by [terminal] to [end] [straight|arc] distance\n",
    "```\n",
    "\n",
    "In the example above, user should define the transitions as follow:\n",
    "```\n",
    "from 0 by c to f arc 2\n",
    "from 0 by a to 1 straight 1\n",
    "from 1 by b to 1 arc 0\n",
    "from 1 by c to f straight 1\n",
    "```"
   ]
  },
  {
   "cell_type": "markdown",
   "metadata": {},
   "source": [
    "Last but not least, the expected output should be the following:"
   ]
  },
  {
   "cell_type": "code",
   "execution_count": 108,
   "metadata": {
    "scrolled": false
   },
   "outputs": [],
   "source": [
    "import turtle as t\n",
    "import numpy as np\n",
    "\n",
    "#basic configurations\n",
    "t.TurtleScreen._RUNNING = True\n",
    "t.width(3)\n",
    "\n",
    "#draw state\n",
    "def drawState(name, final):\n",
    "    t.penup()\n",
    "    t.setx(pos[name][0])\n",
    "    t.sety(pos[name][1])\n",
    "    t.pendown()\n",
    "    if not final:\n",
    "        t.circle(30)\n",
    "        t.write(name, True, align=\"center\", font=(\"Arial\",30,\"normal\"))\n",
    "    else:\n",
    "        t.circle(30)\n",
    "        t.penup()\n",
    "        t.sety(pos[name][1]+5)\n",
    "        t.pendown()\n",
    "        t.circle(25)\n",
    "        t.write(name, True, align=\"center\", font=(\"Arial\",30,\"normal\"))\n",
    "\n",
    "#draw transition\n",
    "def drawArrow(start, end, terminal, arc, dist):\n",
    "    if dist != 0:\n",
    "        pos[end] = (pos[start][0]+160*dist, pos[start][1])\n",
    "        if arc == 'straight':\n",
    "            t.penup()\n",
    "            t.setx(pos[start][0]+30)\n",
    "            t.sety(pos[start][1]+30)\n",
    "            t.pendown()\n",
    "            t.forward(50*dist)\n",
    "            t.write(terminal, True, align=\"center\", font=(\"Arial\",20,\"normal\"))\n",
    "            t.forward(40*dist)\n",
    "            #draw the arrow\n",
    "            currPos = t.pos()\n",
    "            t.setpos(currPos[0]-10,currPos[1]+5)\n",
    "            t.setpos(currPos)\n",
    "            t.setpos(currPos[0]-10,currPos[1]-5)\n",
    "        if arc == 'arc':\n",
    "            side = (np.abs(pos[start][0]) - np.abs(pos[end][0])) / 2\n",
    "            radius = np.sqrt(3) * side * 0.75\n",
    "            t.penup()\n",
    "            t.setx(pos[start][0]+side)\n",
    "            t.sety(pos[start][1]-side/2)\n",
    "            t.pendown()\n",
    "            t.circle(radius,50)\n",
    "            t.penup()\n",
    "            t.circle(radius,260)\n",
    "            t.pendown()\n",
    "            t.circle(radius,50)\n",
    "            t.write(terminal, True, align=\"center\", font=(\"Arial\",20,\"normal\"))\n",
    "            #draw the arrow\n",
    "            currPos = t.pos()\n",
    "            t.setpos(currPos[0]-10,currPos[1]+5)\n",
    "            t.setpos(currPos)\n",
    "            t.setpos(currPos[0]-10,currPos[1]-5)\n",
    "    else:\n",
    "        t.penup()\n",
    "        t.setx(pos[start][0])\n",
    "        t.sety(pos[start][1]+30)\n",
    "        t.circle(40,35)\n",
    "        t.pendown()\n",
    "        t.circle(40,145)\n",
    "        t.write(terminal, True, align=\"center\", font=(\"Arial\",20,\"normal\"))\n",
    "        #draw the arrow\n",
    "        currPos = t.pos()\n",
    "        t.setpos(currPos[0]-10,currPos[1]+5)\n",
    "        t.setpos(currPos)\n",
    "        t.setpos(currPos[0]-10,currPos[1]-5)\n",
    "        t.setpos(currPos)\n",
    "        t.circle(40,130)\n",
    "        t.penup()\n",
    "        t.circle(40,50)\n",
    "\n",
    "#draw FSM\n",
    "#state position map\n",
    "pos = {}\n",
    "t.speed(0)\n",
    "\n",
    "#initial state 0\n",
    "pos['0'] = (-400,0)\n",
    "drawState('0', False)\n",
    "\n",
    "#from 0 by c to f arc 2\n",
    "#final state f\n",
    "drawArrow('0', 'f', 'c', 'arc', 2)\n",
    "drawState('f', True)\n",
    "\n",
    "#from 0 by a to 1 straight 1\n",
    "drawArrow('0', '1', 'a', 'straight', 1)\n",
    "drawState('1', False)\n",
    "\n",
    "#from 1 by b to 1 arc 0\n",
    "drawArrow('1', '1', 'b', 'arc', 0)\n",
    "\n",
    "#from 1 by c to f straight 1\n",
    "#final state f\n",
    "drawArrow('1', 'f', 'c', 'straight', 1)\n",
    "\n",
    "#animate execution of abc\n",
    "t.speed('normal')\n",
    "t.pencolor('red')\n",
    "#0 a\n",
    "drawState('0', False)\n",
    "drawArrow('0', '1', 'a', 'straight', 1)\n",
    "\n",
    "#1 b\n",
    "drawState('1', False)\n",
    "drawArrow('1', '1', 'b', 'arc', 0)\n",
    "\n",
    "#1 c\n",
    "drawArrow('1', 'f', 'c', 'straight', 1)\n",
    "drawState('f', True)\n",
    "\n",
    "#end turtle\n",
    "t.done()"
   ]
  },
  {
   "cell_type": "markdown",
   "metadata": {},
   "source": [
    "Documentation\n",
    "---\n",
    "This project will be documented and demostrated by Jupyter notebooks throughout the development period. We hope to learn more about the execution and algorithms of FSM by completing this task. Furthermore, it also helps us to consolidate our knowledge on the topics and materials learned throughout the course."
   ]
  },
  {
   "cell_type": "markdown",
   "metadata": {},
   "source": [
    "Resources\n",
    "---\n",
    "`2. Regular Languages` Lecture Notes By Emil Sekerinski, McMaster University, January 2020   \n",
    "`Python Turtle` Library   \n",
    "`Python Numpy` Library"
   ]
  },
  {
   "cell_type": "markdown",
   "metadata": {},
   "source": [
    "Division of Work\n",
    "---\n",
    "|`Team Member`    |`Task`  |\n",
    "|:---------|--------|\n",
    "|`Jessia`  | `poster design, generalized turtle code` |\n",
    "|`Mingnan` | `poster content, turtle animation code, FSM parsing algorithms` |"
   ]
  },
  {
   "cell_type": "markdown",
   "metadata": {},
   "source": [
    "Weekly Schedule\n",
    "---\n",
    "|`Deadline`    |`Task`  |\n",
    "|:---------|--------|\n",
    "|`Mar. 9`  | `turtle animation code` |\n",
    "|`Mar. 16` | `generalized turtle code` |\n",
    "|`Mar. 23` | `utilize turtle code into FSM parsing` |\n",
    "|`Mar. 31` | `finalize project and bug fixes` |\n",
    "|`Apr. 7`  | `poster design and content` |"
   ]
  },
  {
   "cell_type": "code",
   "execution_count": null,
   "metadata": {},
   "outputs": [],
   "source": []
  }
 ],
 "metadata": {
  "kernelspec": {
   "display_name": "Python 3",
   "language": "python",
   "name": "python3"
  },
  "language_info": {
   "codemirror_mode": {
    "name": "ipython",
    "version": 3
   },
   "file_extension": ".py",
   "mimetype": "text/x-python",
   "name": "python",
   "nbconvert_exporter": "python",
   "pygments_lexer": "ipython3",
   "version": "3.8.1"
  }
 },
 "nbformat": 4,
 "nbformat_minor": 2
}
