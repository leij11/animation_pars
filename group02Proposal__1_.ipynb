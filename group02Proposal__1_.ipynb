{
 "cells": [
  {
   "cell_type": "markdown",
   "metadata": {},
   "source": [
    "# CS4TB3 Project Proposal\n",
    "By group02 (Jessica Lei, Mingnan Su)"
   ]
  },
  {
   "cell_type": "markdown",
   "metadata": {},
   "source": [
    "Overview\n",
    "---\n",
    "Our task for this project is to take a step further with Jupyter Notebook’s given functionalities by providing users with the ability to animate the execution of FSM. We will be implementing animations using the python library of turtle.\n",
    "\n",
    "Firstly, let the user provide FSM as input, import the Turtle package and then draw the FSM diagram. Next, ask the user to provide input in the format of string, e.g.\"abc\". We put the given input into FSM and decide whether it fits FSM. If it fits, we execute the input in FSM and animate the execution of FSM by coloring the different components of the diagram.\n",
    "\n",
    "Furthermore, we could also provide the visualization of the algorithm for making FSM deterministic and equivalence."
   ]
  },
  {
   "cell_type": "markdown",
   "metadata": {},
   "source": [
    "Implementation\n",
    "--"
   ]
  },
  {
   "cell_type": "markdown",
   "metadata": {},
   "source": [
    "Firstly, user will provide the FSM in a format of string. \n",
    "```\n",
    "first line: initial state\n",
    "second line: {final states}\n",
    "all subsequent lines: \"source symbol -> target\"\n",
    "```"
   ]
  },
  {
   "cell_type": "code",
   "execution_count": 38,
   "metadata": {},
   "outputs": [],
   "source": [
    "user_FSM = \"\"\"\n",
    "q₀\n",
    "f\n",
    "q₀ a → q₁\n",
    "q₁ b → q₁\n",
    "q₁ c → f\n",
    "q₀ c → f\n",
    "\"\"\""
   ]
  },
  {
   "cell_type": "markdown",
   "metadata": {},
   "source": [
    "Then the program will parse the string and store the value in class `FiniteStateMachine`."
   ]
  },
  {
   "cell_type": "code",
   "execution_count": 40,
   "metadata": {},
   "outputs": [],
   "source": [
    "class FiniteStateMachine:\n",
    "    def __init__(self, T, Q, R, q0, F):\n",
    "        self.T, self.Q, self.R, self.q0, self.F = T, Q, R, q0, F\n",
    "    def __repr__(self):\n",
    "        return str(self.q0) + '\\n' + ' '.join(self.F) + '\\n' + \\\n",
    "               '\\n'.join(r[0] + ' ' + r[1] + ' → ' + r[2] for r in self.R)\n",
    "\n",
    "def parseFSM(fsm: str) -> FiniteStateMachine:\n",
    "    fsm = [line for line in fsm.split('\\n') if line.strip() != '']\n",
    "    q0 = fsm[0].split()[0] # first line: initialstate\n",
    "    F = set(fsm[1].split()) # second line: finalstate, finalstate, ...\n",
    "    R = set()\n",
    "    for line in fsm[2:]: # all subsequent lines: \"source symbol → target\"\n",
    "        l, r = line.split('→')\n",
    "        R |= {(l.split()[0], l.split()[1], r.split()[0])}\n",
    "    T = {r[1] for r in R}\n",
    "    Q = {q0} | F | {r[0] for r in R} | {r[2] for r in R}\n",
    "    return FiniteStateMachine(T, Q, R, q0, F)\n",
    "\n",
    "def accepts(fsm: FiniteStateMachine, tau: str) -> bool:\n",
    "    nxt = {(q, a): r for (q, a, r) in fsm.R}\n",
    "    q = fsm.q0\n",
    "    for t in tau:\n",
    "        if (q, t) in nxt: q = nxt[q, t]\n",
    "        else: return False\n",
    "    return q in fsm.F"
   ]
  },
  {
   "cell_type": "code",
   "execution_count": 41,
   "metadata": {
    "scrolled": true
   },
   "outputs": [
    {
     "name": "stdout",
     "output_type": "stream",
     "text": [
      "q₀\n",
      "{('q₁', 'b', 'q₁'), ('q₀', 'a', 'q₁'), ('q₁', 'c', 'f'), ('q₀', 'c', 'f')}\n",
      "{'f'}\n",
      "True\n"
     ]
    }
   ],
   "source": [
    "A0 = parseFSM(user_FSM)\n",
    "print(A0.q0)\n",
    "print(A0.R)\n",
    "print(A0.F)\n",
    "print(accepts(A0, 'abc'))"
   ]
  },
  {
   "cell_type": "markdown",
   "metadata": {},
   "source": [
    "In order to use turtle libarary in Jupyter notebook, we require the following configurations:\n",
    "1. pip install ipyturtle\n",
    "2. jupyter nbextension enable --py --sys-prefix ipyturtle"
   ]
  },
  {
   "cell_type": "markdown",
   "metadata": {},
   "source": [
    "Last but not least, the expected output should be the following:"
   ]
  },
  {
   "cell_type": "code",
   "execution_count": 43,
   "metadata": {
    "scrolled": false
   },
   "outputs": [],
   "source": [
    "import turtle as t\n",
    "\n",
    "#basic configurations\n",
    "TurtleScreen._RUNNING = True\n",
    "t.width(3)\n",
    "\n",
    "#draw FSM\n",
    "#draw state and non-terminals\n",
    "penup()\n",
    "t.setx(-200)\n",
    "pendown()\n",
    "t.circle(60*0.5)\n",
    "t.write('0', True, align=\"center\", font=(\"Arial\",40,\"normal\"))\n",
    "\n",
    "#draw arrow and terminals\n",
    "\n",
    "#draw final state\n",
    "\n",
    "#animate execution\n",
    "\n",
    "#end turtle\n",
    "t.done()"
   ]
  },
  {
   "cell_type": "markdown",
   "metadata": {},
   "source": [
    "Documentation\n",
    "---\n",
    "This project will be documented and demostrated by Jupyter notebooks throughout the development period. We hope to learn more about the execution and algorithms of FSM by completing this task. Furthermore, it also helps us to consolidate our knowledge on the topics and materials learned throughout the course."
   ]
  },
  {
   "cell_type": "markdown",
   "metadata": {},
   "source": [
    "Resources\n",
    "---\n",
    "`2. Regular Languages` Lecture Notes By Emil Sekerinski, McMaster University, January 2020   \n",
    "`Python Turtle` Library"
   ]
  },
  {
   "cell_type": "markdown",
   "metadata": {},
   "source": [
    "Division of Work\n",
    "---\n",
    "|`Team Member`    |`Task`  |\n",
    "|:---------|--------|\n",
    "|`Jessia`  | `poster design, generalized turtle code` |\n",
    "|`Mingnan` | `poster content, turtle animation code, FSM parsing algorithms` |"
   ]
  },
  {
   "cell_type": "markdown",
   "metadata": {},
   "source": [
    "Weekly Schedule\n",
    "---\n",
    "|`Deadline`    |`Task`  |\n",
    "|:---------|--------|\n",
    "|`Mar. 9`  | `turtle animation code` |\n",
    "|`Mar. 16` | `generalized turtle code` |\n",
    "|`Mar. 23` | `utilize turtle code into FSM parsing` |\n",
    "|`Mar. 31` | `finalize project and bug fixes` |\n",
    "|`Apr. 7`  | `poster design and content` |"
   ]
  },
  {
   "cell_type": "code",
   "execution_count": null,
   "metadata": {},
   "outputs": [],
   "source": []
  }
 ],
 "metadata": {
  "kernelspec": {
   "display_name": "Python 3",
   "language": "python",
   "name": "python3"
  },
  "language_info": {
   "codemirror_mode": {
    "name": "ipython",
    "version": 3
   },
   "file_extension": ".py",
   "mimetype": "text/x-python",
   "name": "python",
   "nbconvert_exporter": "python",
   "pygments_lexer": "ipython3",
   "version": "3.6.3"
  }
 },
 "nbformat": 4,
 "nbformat_minor": 2
}
